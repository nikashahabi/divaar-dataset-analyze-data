{
 "cells": [
  {
   "cell_type": "markdown",
   "metadata": {},
   "source": [
    "# Summer Camp Entrance Task"
   ]
  },
  {
   "cell_type": "code",
   "execution_count": 1,
   "metadata": {},
   "outputs": [],
   "source": [
    "import numpy as np\n",
    "import pandas as pd"
   ]
  },
  {
   "cell_type": "code",
   "execution_count": 2,
   "metadata": {},
   "outputs": [],
   "source": [
    "# reading the tabular data\n",
    "df = pd.read_excel('Summer Camp Task Data.xlsx')"
   ]
  },
  {
   "cell_type": "markdown",
   "metadata": {},
   "source": [
    "## Question 1: find error"
   ]
  },
  {
   "cell_type": "code",
   "execution_count": 3,
   "metadata": {
    "scrolled": true
   },
   "outputs": [
    {
     "data": {
      "text/html": [
       "<div>\n",
       "<style scoped>\n",
       "    .dataframe tbody tr th:only-of-type {\n",
       "        vertical-align: middle;\n",
       "    }\n",
       "\n",
       "    .dataframe tbody tr th {\n",
       "        vertical-align: top;\n",
       "    }\n",
       "\n",
       "    .dataframe thead th {\n",
       "        text-align: right;\n",
       "    }\n",
       "</style>\n",
       "<table border=\"1\" class=\"dataframe\">\n",
       "  <thead>\n",
       "    <tr style=\"text-align: right;\">\n",
       "      <th></th>\n",
       "      <th>action</th>\n",
       "      <th>created_at</th>\n",
       "      <th>source_event_id</th>\n",
       "      <th>device_id</th>\n",
       "      <th>post_page_offset</th>\n",
       "      <th>tokens</th>\n",
       "      <th>post_index_in_post_list</th>\n",
       "      <th>post_token</th>\n",
       "    </tr>\n",
       "  </thead>\n",
       "  <tbody>\n",
       "    <tr>\n",
       "      <th>0</th>\n",
       "      <td>load_post_page</td>\n",
       "      <td>1609545001150</td>\n",
       "      <td>1575558c-a702-46ef-8e18-bc5cef761473</td>\n",
       "      <td>Ed9EADRZRXCHcrcEP_Hnkg</td>\n",
       "      <td>26.0</td>\n",
       "      <td>[wXvP3enu, wXvHXzUS, wXvPHXVe, wXvPHRs3, wXvH3...</td>\n",
       "      <td>NaN</td>\n",
       "      <td>NaN</td>\n",
       "    </tr>\n",
       "    <tr>\n",
       "      <th>1</th>\n",
       "      <td>load_post_page</td>\n",
       "      <td>1609545121641</td>\n",
       "      <td>0fd004f4-ce9b-4766-ac96-7578dedebacb</td>\n",
       "      <td>5aVIp_PNSAWxqwBETYpmxQ</td>\n",
       "      <td>19.0</td>\n",
       "      <td>[wXujANbk, wXurAJsf, wXufwlh1, wXtr_4tD, wXujg...</td>\n",
       "      <td>NaN</td>\n",
       "      <td>NaN</td>\n",
       "    </tr>\n",
       "    <tr>\n",
       "      <th>2</th>\n",
       "      <td>load_post_page</td>\n",
       "      <td>1609545009147</td>\n",
       "      <td>479905f2-3bb4-4c90-8e88-5ce4b60d0a73</td>\n",
       "      <td>mt0UAT4AQe2dECdXBvKYBA</td>\n",
       "      <td>0.0</td>\n",
       "      <td>[wXvHbNqU, wXvDrof9, wXv_aXHk, wXvDrSIa, wXv_a...</td>\n",
       "      <td>NaN</td>\n",
       "      <td>NaN</td>\n",
       "    </tr>\n",
       "    <tr>\n",
       "      <th>3</th>\n",
       "      <td>load_post_page</td>\n",
       "      <td>1609546776979</td>\n",
       "      <td>b9b609bd-a486-42fb-b1a9-5ca03cf4a215</td>\n",
       "      <td>huSKUX-mSwyUcGzgSbXX6g</td>\n",
       "      <td>0.0</td>\n",
       "      <td>[wXvb7cpv, wXvH3hL0, wXvjmDaE, wXvT0sOS, wXv_j...</td>\n",
       "      <td>NaN</td>\n",
       "      <td>NaN</td>\n",
       "    </tr>\n",
       "    <tr>\n",
       "      <th>4</th>\n",
       "      <td>load_post_page</td>\n",
       "      <td>1609547182717</td>\n",
       "      <td>6c390fce-34b6-4e19-837e-6bc295a72514</td>\n",
       "      <td>sL5fLDdoR9a7aDGPP8N-jA</td>\n",
       "      <td>1.0</td>\n",
       "      <td>[wXvjJTIc, wXvb5_SX, wXvb54Gs, wXvb5t6J, wXvbJ...</td>\n",
       "      <td>NaN</td>\n",
       "      <td>NaN</td>\n",
       "    </tr>\n",
       "    <tr>\n",
       "      <th>...</th>\n",
       "      <td>...</td>\n",
       "      <td>...</td>\n",
       "      <td>...</td>\n",
       "      <td>...</td>\n",
       "      <td>...</td>\n",
       "      <td>...</td>\n",
       "      <td>...</td>\n",
       "      <td>...</td>\n",
       "    </tr>\n",
       "    <tr>\n",
       "      <th>111078</th>\n",
       "      <td>load_post_page</td>\n",
       "      <td>1609546941659</td>\n",
       "      <td>f55b2133-4f95-4cc5-8d18-1b47bd3dca63</td>\n",
       "      <td>hiJArdXuQ_a3zVxEsmkDjQ</td>\n",
       "      <td>0.0</td>\n",
       "      <td>[wXv3qoPQ, wXvT7ylu, wXvnIJuH, wXvXH7vy, wXvDX...</td>\n",
       "      <td>NaN</td>\n",
       "      <td>NaN</td>\n",
       "    </tr>\n",
       "    <tr>\n",
       "      <th>111079</th>\n",
       "      <td>load_post_page</td>\n",
       "      <td>1609547257051</td>\n",
       "      <td>14282fc7-f431-43b6-8c07-423f33be3d74</td>\n",
       "      <td>NaN</td>\n",
       "      <td>1.0</td>\n",
       "      <td>[wXYr2lVk, wXXj7iDP, wXXXIsQr, wXQbXKz6, wXN3t...</td>\n",
       "      <td>NaN</td>\n",
       "      <td>NaN</td>\n",
       "    </tr>\n",
       "    <tr>\n",
       "      <th>111080</th>\n",
       "      <td>load_post_page</td>\n",
       "      <td>1609546292003</td>\n",
       "      <td>0a859885-a19b-4420-a9e4-2259eca6765d</td>\n",
       "      <td>g0IAfhwXTYa5rdrk96jXFQ</td>\n",
       "      <td>9.0</td>\n",
       "      <td>[wXr_jZmX, wXr7D0AM, wXrzjhxL, wXrfjQNe, wXrni...</td>\n",
       "      <td>NaN</td>\n",
       "      <td>NaN</td>\n",
       "    </tr>\n",
       "    <tr>\n",
       "      <th>111081</th>\n",
       "      <td>load_post_page</td>\n",
       "      <td>1609546304942</td>\n",
       "      <td>4ec64b79-27c4-4fba-b84c-b877dc82970a</td>\n",
       "      <td>TzlVSQK7S16V0TPyGELMKQ</td>\n",
       "      <td>0.0</td>\n",
       "      <td>[wXv3aQrv, wXvn6ONM, wXvfaG0M, wXvf6LIr, wXvjJ...</td>\n",
       "      <td>NaN</td>\n",
       "      <td>NaN</td>\n",
       "    </tr>\n",
       "    <tr>\n",
       "      <th>111082</th>\n",
       "      <td>load_post_page</td>\n",
       "      <td>1609547165297</td>\n",
       "      <td>5ea5de7d-1f85-4251-b3c1-6e71d4730fd4</td>\n",
       "      <td>Xe03AM5rQgu6jpGPZ4mGEw</td>\n",
       "      <td>2.0</td>\n",
       "      <td>[wXoDui-2, wXoT9yTg, wXoznZ93, wXormLxu, wXMX-...</td>\n",
       "      <td>NaN</td>\n",
       "      <td>NaN</td>\n",
       "    </tr>\n",
       "  </tbody>\n",
       "</table>\n",
       "<p>111083 rows × 8 columns</p>\n",
       "</div>"
      ],
      "text/plain": [
       "                action     created_at                       source_event_id  \\\n",
       "0       load_post_page  1609545001150  1575558c-a702-46ef-8e18-bc5cef761473   \n",
       "1       load_post_page  1609545121641  0fd004f4-ce9b-4766-ac96-7578dedebacb   \n",
       "2       load_post_page  1609545009147  479905f2-3bb4-4c90-8e88-5ce4b60d0a73   \n",
       "3       load_post_page  1609546776979  b9b609bd-a486-42fb-b1a9-5ca03cf4a215   \n",
       "4       load_post_page  1609547182717  6c390fce-34b6-4e19-837e-6bc295a72514   \n",
       "...                ...            ...                                   ...   \n",
       "111078  load_post_page  1609546941659  f55b2133-4f95-4cc5-8d18-1b47bd3dca63   \n",
       "111079  load_post_page  1609547257051  14282fc7-f431-43b6-8c07-423f33be3d74   \n",
       "111080  load_post_page  1609546292003  0a859885-a19b-4420-a9e4-2259eca6765d   \n",
       "111081  load_post_page  1609546304942  4ec64b79-27c4-4fba-b84c-b877dc82970a   \n",
       "111082  load_post_page  1609547165297  5ea5de7d-1f85-4251-b3c1-6e71d4730fd4   \n",
       "\n",
       "                     device_id  post_page_offset  \\\n",
       "0       Ed9EADRZRXCHcrcEP_Hnkg              26.0   \n",
       "1       5aVIp_PNSAWxqwBETYpmxQ              19.0   \n",
       "2       mt0UAT4AQe2dECdXBvKYBA               0.0   \n",
       "3       huSKUX-mSwyUcGzgSbXX6g               0.0   \n",
       "4       sL5fLDdoR9a7aDGPP8N-jA               1.0   \n",
       "...                        ...               ...   \n",
       "111078  hiJArdXuQ_a3zVxEsmkDjQ               0.0   \n",
       "111079                     NaN               1.0   \n",
       "111080  g0IAfhwXTYa5rdrk96jXFQ               9.0   \n",
       "111081  TzlVSQK7S16V0TPyGELMKQ               0.0   \n",
       "111082  Xe03AM5rQgu6jpGPZ4mGEw               2.0   \n",
       "\n",
       "                                                   tokens  \\\n",
       "0       [wXvP3enu, wXvHXzUS, wXvPHXVe, wXvPHRs3, wXvH3...   \n",
       "1       [wXujANbk, wXurAJsf, wXufwlh1, wXtr_4tD, wXujg...   \n",
       "2       [wXvHbNqU, wXvDrof9, wXv_aXHk, wXvDrSIa, wXv_a...   \n",
       "3       [wXvb7cpv, wXvH3hL0, wXvjmDaE, wXvT0sOS, wXv_j...   \n",
       "4       [wXvjJTIc, wXvb5_SX, wXvb54Gs, wXvb5t6J, wXvbJ...   \n",
       "...                                                   ...   \n",
       "111078  [wXv3qoPQ, wXvT7ylu, wXvnIJuH, wXvXH7vy, wXvDX...   \n",
       "111079  [wXYr2lVk, wXXj7iDP, wXXXIsQr, wXQbXKz6, wXN3t...   \n",
       "111080  [wXr_jZmX, wXr7D0AM, wXrzjhxL, wXrfjQNe, wXrni...   \n",
       "111081  [wXv3aQrv, wXvn6ONM, wXvfaG0M, wXvf6LIr, wXvjJ...   \n",
       "111082  [wXoDui-2, wXoT9yTg, wXoznZ93, wXormLxu, wXMX-...   \n",
       "\n",
       "        post_index_in_post_list post_token  \n",
       "0                           NaN        NaN  \n",
       "1                           NaN        NaN  \n",
       "2                           NaN        NaN  \n",
       "3                           NaN        NaN  \n",
       "4                           NaN        NaN  \n",
       "...                         ...        ...  \n",
       "111078                      NaN        NaN  \n",
       "111079                      NaN        NaN  \n",
       "111080                      NaN        NaN  \n",
       "111081                      NaN        NaN  \n",
       "111082                      NaN        NaN  \n",
       "\n",
       "[111083 rows x 8 columns]"
      ]
     },
     "execution_count": 3,
     "metadata": {},
     "output_type": "execute_result"
    }
   ],
   "source": [
    "# seeing the tabular data as a dataframe\n",
    "df"
   ]
  },
  {
   "cell_type": "code",
   "execution_count": 4,
   "metadata": {},
   "outputs": [
    {
     "data": {
      "text/html": [
       "<div>\n",
       "<style scoped>\n",
       "    .dataframe tbody tr th:only-of-type {\n",
       "        vertical-align: middle;\n",
       "    }\n",
       "\n",
       "    .dataframe tbody tr th {\n",
       "        vertical-align: top;\n",
       "    }\n",
       "\n",
       "    .dataframe thead th {\n",
       "        text-align: right;\n",
       "    }\n",
       "</style>\n",
       "<table border=\"1\" class=\"dataframe\">\n",
       "  <thead>\n",
       "    <tr style=\"text-align: right;\">\n",
       "      <th></th>\n",
       "      <th>action</th>\n",
       "      <th>created_at</th>\n",
       "      <th>source_event_id</th>\n",
       "      <th>device_id</th>\n",
       "      <th>post_page_offset</th>\n",
       "      <th>tokens</th>\n",
       "      <th>post_index_in_post_list</th>\n",
       "      <th>post_token</th>\n",
       "    </tr>\n",
       "  </thead>\n",
       "  <tbody>\n",
       "    <tr>\n",
       "      <th>0</th>\n",
       "      <td>load_post_page</td>\n",
       "      <td>1609545001150</td>\n",
       "      <td>1575558c-a702-46ef-8e18-bc5cef761473</td>\n",
       "      <td>Ed9EADRZRXCHcrcEP_Hnkg</td>\n",
       "      <td>26.0</td>\n",
       "      <td>[wXvP3enu, wXvHXzUS, wXvPHXVe, wXvPHRs3, wXvH3...</td>\n",
       "      <td>NaN</td>\n",
       "      <td>NaN</td>\n",
       "    </tr>\n",
       "    <tr>\n",
       "      <th>1</th>\n",
       "      <td>load_post_page</td>\n",
       "      <td>1609545121641</td>\n",
       "      <td>0fd004f4-ce9b-4766-ac96-7578dedebacb</td>\n",
       "      <td>5aVIp_PNSAWxqwBETYpmxQ</td>\n",
       "      <td>19.0</td>\n",
       "      <td>[wXujANbk, wXurAJsf, wXufwlh1, wXtr_4tD, wXujg...</td>\n",
       "      <td>NaN</td>\n",
       "      <td>NaN</td>\n",
       "    </tr>\n",
       "    <tr>\n",
       "      <th>2</th>\n",
       "      <td>load_post_page</td>\n",
       "      <td>1609545009147</td>\n",
       "      <td>479905f2-3bb4-4c90-8e88-5ce4b60d0a73</td>\n",
       "      <td>mt0UAT4AQe2dECdXBvKYBA</td>\n",
       "      <td>0.0</td>\n",
       "      <td>[wXvHbNqU, wXvDrof9, wXv_aXHk, wXvDrSIa, wXv_a...</td>\n",
       "      <td>NaN</td>\n",
       "      <td>NaN</td>\n",
       "    </tr>\n",
       "    <tr>\n",
       "      <th>3</th>\n",
       "      <td>load_post_page</td>\n",
       "      <td>1609546776979</td>\n",
       "      <td>b9b609bd-a486-42fb-b1a9-5ca03cf4a215</td>\n",
       "      <td>huSKUX-mSwyUcGzgSbXX6g</td>\n",
       "      <td>0.0</td>\n",
       "      <td>[wXvb7cpv, wXvH3hL0, wXvjmDaE, wXvT0sOS, wXv_j...</td>\n",
       "      <td>NaN</td>\n",
       "      <td>NaN</td>\n",
       "    </tr>\n",
       "    <tr>\n",
       "      <th>4</th>\n",
       "      <td>load_post_page</td>\n",
       "      <td>1609547182717</td>\n",
       "      <td>6c390fce-34b6-4e19-837e-6bc295a72514</td>\n",
       "      <td>sL5fLDdoR9a7aDGPP8N-jA</td>\n",
       "      <td>1.0</td>\n",
       "      <td>[wXvjJTIc, wXvb5_SX, wXvb54Gs, wXvb5t6J, wXvbJ...</td>\n",
       "      <td>NaN</td>\n",
       "      <td>NaN</td>\n",
       "    </tr>\n",
       "    <tr>\n",
       "      <th>5</th>\n",
       "      <td>load_post_page</td>\n",
       "      <td>1609546930927</td>\n",
       "      <td>3898ebc8-ae35-4e6f-b924-5ce64f764dd1</td>\n",
       "      <td>lZWg61D5RiyhZtq7QK6vIA</td>\n",
       "      <td>0.0</td>\n",
       "      <td>[wXv_oVL4, wXvrIudl, wXknzwdX, wXkbK0Wb, wXvPI...</td>\n",
       "      <td>NaN</td>\n",
       "      <td>NaN</td>\n",
       "    </tr>\n",
       "    <tr>\n",
       "      <th>6</th>\n",
       "      <td>load_post_page</td>\n",
       "      <td>1609545605620</td>\n",
       "      <td>576278e1-9af0-4ed9-95c8-09a6b6c2e958</td>\n",
       "      <td>TVDfsdqOS1eqxuUm2EHe6g</td>\n",
       "      <td>0.0</td>\n",
       "      <td>[wXr_DuyQ, wXpr43e5, wXl_rC8t, wXkLrzBv, wXV7M...</td>\n",
       "      <td>NaN</td>\n",
       "      <td>NaN</td>\n",
       "    </tr>\n",
       "    <tr>\n",
       "      <th>7</th>\n",
       "      <td>load_post_page</td>\n",
       "      <td>1609544122896</td>\n",
       "      <td>7a41e6f5-8cb0-4617-a3b8-ce2a8d1c866d</td>\n",
       "      <td>IheFRNVdTeyV1BP8MyHuIw</td>\n",
       "      <td>21.0</td>\n",
       "      <td>[wXgL_Qy4, wXgbuOTt, wXgXOEvJ, wXg_tgDN, wXgz9...</td>\n",
       "      <td>NaN</td>\n",
       "      <td>NaN</td>\n",
       "    </tr>\n",
       "    <tr>\n",
       "      <th>8</th>\n",
       "      <td>load_post_page</td>\n",
       "      <td>1609545707940</td>\n",
       "      <td>18e1e48c-0d83-476d-a374-fff86ac50966</td>\n",
       "      <td>kQmNHTxhTmyp1FYdNKtybg</td>\n",
       "      <td>0.0</td>\n",
       "      <td>[wXvra2va, wXvr6ZFP, wXvrKWRu, wXvnq-z5, wXvnq...</td>\n",
       "      <td>NaN</td>\n",
       "      <td>NaN</td>\n",
       "    </tr>\n",
       "    <tr>\n",
       "      <th>9</th>\n",
       "      <td>load_post_page</td>\n",
       "      <td>1609544128321</td>\n",
       "      <td>fd57cce5-81c5-465c-802c-b5aa108f314a</td>\n",
       "      <td>WfAeQAWnRR6srypp6YDQSg</td>\n",
       "      <td>1.0</td>\n",
       "      <td>[wXtTMTN2, wXtDsp1i, wXt3b-pm, wXtHbD2p, wXgjX...</td>\n",
       "      <td>NaN</td>\n",
       "      <td>NaN</td>\n",
       "    </tr>\n",
       "    <tr>\n",
       "      <th>10</th>\n",
       "      <td>load_post_page</td>\n",
       "      <td>1609544249442</td>\n",
       "      <td>4f40a5d7-9006-4add-9a14-7d2f53af8a7e</td>\n",
       "      <td>ZOsojTT-SbqY4aypaKuxBw</td>\n",
       "      <td>0.0</td>\n",
       "      <td>[wXvLZP0T, wXvb4C_I, wXvzG7ou, wXvjnj37, wXvT2...</td>\n",
       "      <td>NaN</td>\n",
       "      <td>NaN</td>\n",
       "    </tr>\n",
       "    <tr>\n",
       "      <th>11</th>\n",
       "      <td>load_post_page</td>\n",
       "      <td>1609544662731</td>\n",
       "      <td>7d4cbb3c-f4ee-4813-a3a0-ab1fcabdf552</td>\n",
       "      <td>eCfHv7UfRiyhnS2n3nGfbQ</td>\n",
       "      <td>0.0</td>\n",
       "      <td>[wXvfkbJ6, wXv71Lf6, wXv3xhXO, wXuXPJTr, wXuDO...</td>\n",
       "      <td>NaN</td>\n",
       "      <td>NaN</td>\n",
       "    </tr>\n",
       "    <tr>\n",
       "      <th>12</th>\n",
       "      <td>load_post_page</td>\n",
       "      <td>1609544131664</td>\n",
       "      <td>ef4ffec5-7f2d-471d-adfd-cd88c4428f76</td>\n",
       "      <td>RUb0z9zHQsCWbPAAivPwJg</td>\n",
       "      <td>1.0</td>\n",
       "      <td>[wXuHsrRf, wXZ7r9rW, wXvjRWxJ, wXvnjbFd, wXvXD...</td>\n",
       "      <td>NaN</td>\n",
       "      <td>NaN</td>\n",
       "    </tr>\n",
       "    <tr>\n",
       "      <th>13</th>\n",
       "      <td>load_post_page</td>\n",
       "      <td>1609544826078</td>\n",
       "      <td>0276814f-e9cf-4cf9-af39-3989302d95b8</td>\n",
       "      <td>AWhj2jzTT2mfHq0xkCv5ew</td>\n",
       "      <td>6.0</td>\n",
       "      <td>[wXvT19Q2, wXvTW3yO, wXvbGsgj, wXvD0GYJ, wXvDE...</td>\n",
       "      <td>NaN</td>\n",
       "      <td>NaN</td>\n",
       "    </tr>\n",
       "    <tr>\n",
       "      <th>14</th>\n",
       "      <td>load_post_page</td>\n",
       "      <td>1609545726634</td>\n",
       "      <td>c1f57dc6-b51f-455d-a34b-53229eb5ee81</td>\n",
       "      <td>HhDj1rApQIqldb96bIOeew</td>\n",
       "      <td>4.0</td>\n",
       "      <td>[wXvPmZil, wXvPGMXH, wXvXmA7z, wXvXWCoO, wXvDE...</td>\n",
       "      <td>NaN</td>\n",
       "      <td>NaN</td>\n",
       "    </tr>\n",
       "    <tr>\n",
       "      <th>15</th>\n",
       "      <td>load_post_page</td>\n",
       "      <td>1609545527701</td>\n",
       "      <td>97559aaa-747f-4942-a2bf-041bf9d63706</td>\n",
       "      <td>SiNxRHSaS8G-pHTRAYxwgw</td>\n",
       "      <td>23.0</td>\n",
       "      <td>[wXPfUT39, wXqPRJv2, wXq7gavO, wXq7gkrH, wXqTQ...</td>\n",
       "      <td>NaN</td>\n",
       "      <td>NaN</td>\n",
       "    </tr>\n",
       "    <tr>\n",
       "      <th>16</th>\n",
       "      <td>load_post_page</td>\n",
       "      <td>1609544147689</td>\n",
       "      <td>6c168e02-15ec-4a3e-9a4f-495b91614529</td>\n",
       "      <td>R9x735TcTr-M7e4nUt_gaQ</td>\n",
       "      <td>0.0</td>\n",
       "      <td>[wXvfRwwa, wXvzwZ5r, wXgDahmm, wXt7oNIV, wXtvX...</td>\n",
       "      <td>NaN</td>\n",
       "      <td>NaN</td>\n",
       "    </tr>\n",
       "    <tr>\n",
       "      <th>17</th>\n",
       "      <td>load_post_page</td>\n",
       "      <td>1609545541610</td>\n",
       "      <td>9cd4e435-0a36-4643-9fa8-1ccdb39bb166</td>\n",
       "      <td>EPfDsFcZR1iuQifFdv_xfg</td>\n",
       "      <td>1.0</td>\n",
       "      <td>[wXt7LAgw, wXvzI2Rh, wXvbombi, wXvrmZ9H, wXvzI...</td>\n",
       "      <td>NaN</td>\n",
       "      <td>NaN</td>\n",
       "    </tr>\n",
       "    <tr>\n",
       "      <th>18</th>\n",
       "      <td>load_post_page</td>\n",
       "      <td>1609545614111</td>\n",
       "      <td>23746296-2a7f-470e-8ce4-dc3d6dd68c1f</td>\n",
       "      <td>d5LHxGqZQ5GyWfeVcXJejg</td>\n",
       "      <td>7.0</td>\n",
       "      <td>[wXsjAZOd, wXsDwdYI, wXrDPcnV, wXr3K6FY, wXrbq...</td>\n",
       "      <td>NaN</td>\n",
       "      <td>NaN</td>\n",
       "    </tr>\n",
       "    <tr>\n",
       "      <th>19</th>\n",
       "      <td>load_post_page</td>\n",
       "      <td>1609544286717</td>\n",
       "      <td>25b50598-9a6a-4697-be0b-64bed25673e1</td>\n",
       "      <td>EnVsfBmGRUKeRCHRBIi5LQ</td>\n",
       "      <td>5.0</td>\n",
       "      <td>[wXsXTvtL, wXs7ykst, wXsvhttK, wXsfxQXH, wXsXx...</td>\n",
       "      <td>NaN</td>\n",
       "      <td>NaN</td>\n",
       "    </tr>\n",
       "  </tbody>\n",
       "</table>\n",
       "</div>"
      ],
      "text/plain": [
       "            action     created_at                       source_event_id  \\\n",
       "0   load_post_page  1609545001150  1575558c-a702-46ef-8e18-bc5cef761473   \n",
       "1   load_post_page  1609545121641  0fd004f4-ce9b-4766-ac96-7578dedebacb   \n",
       "2   load_post_page  1609545009147  479905f2-3bb4-4c90-8e88-5ce4b60d0a73   \n",
       "3   load_post_page  1609546776979  b9b609bd-a486-42fb-b1a9-5ca03cf4a215   \n",
       "4   load_post_page  1609547182717  6c390fce-34b6-4e19-837e-6bc295a72514   \n",
       "5   load_post_page  1609546930927  3898ebc8-ae35-4e6f-b924-5ce64f764dd1   \n",
       "6   load_post_page  1609545605620  576278e1-9af0-4ed9-95c8-09a6b6c2e958   \n",
       "7   load_post_page  1609544122896  7a41e6f5-8cb0-4617-a3b8-ce2a8d1c866d   \n",
       "8   load_post_page  1609545707940  18e1e48c-0d83-476d-a374-fff86ac50966   \n",
       "9   load_post_page  1609544128321  fd57cce5-81c5-465c-802c-b5aa108f314a   \n",
       "10  load_post_page  1609544249442  4f40a5d7-9006-4add-9a14-7d2f53af8a7e   \n",
       "11  load_post_page  1609544662731  7d4cbb3c-f4ee-4813-a3a0-ab1fcabdf552   \n",
       "12  load_post_page  1609544131664  ef4ffec5-7f2d-471d-adfd-cd88c4428f76   \n",
       "13  load_post_page  1609544826078  0276814f-e9cf-4cf9-af39-3989302d95b8   \n",
       "14  load_post_page  1609545726634  c1f57dc6-b51f-455d-a34b-53229eb5ee81   \n",
       "15  load_post_page  1609545527701  97559aaa-747f-4942-a2bf-041bf9d63706   \n",
       "16  load_post_page  1609544147689  6c168e02-15ec-4a3e-9a4f-495b91614529   \n",
       "17  load_post_page  1609545541610  9cd4e435-0a36-4643-9fa8-1ccdb39bb166   \n",
       "18  load_post_page  1609545614111  23746296-2a7f-470e-8ce4-dc3d6dd68c1f   \n",
       "19  load_post_page  1609544286717  25b50598-9a6a-4697-be0b-64bed25673e1   \n",
       "\n",
       "                 device_id  post_page_offset  \\\n",
       "0   Ed9EADRZRXCHcrcEP_Hnkg              26.0   \n",
       "1   5aVIp_PNSAWxqwBETYpmxQ              19.0   \n",
       "2   mt0UAT4AQe2dECdXBvKYBA               0.0   \n",
       "3   huSKUX-mSwyUcGzgSbXX6g               0.0   \n",
       "4   sL5fLDdoR9a7aDGPP8N-jA               1.0   \n",
       "5   lZWg61D5RiyhZtq7QK6vIA               0.0   \n",
       "6   TVDfsdqOS1eqxuUm2EHe6g               0.0   \n",
       "7   IheFRNVdTeyV1BP8MyHuIw              21.0   \n",
       "8   kQmNHTxhTmyp1FYdNKtybg               0.0   \n",
       "9   WfAeQAWnRR6srypp6YDQSg               1.0   \n",
       "10  ZOsojTT-SbqY4aypaKuxBw               0.0   \n",
       "11  eCfHv7UfRiyhnS2n3nGfbQ               0.0   \n",
       "12  RUb0z9zHQsCWbPAAivPwJg               1.0   \n",
       "13  AWhj2jzTT2mfHq0xkCv5ew               6.0   \n",
       "14  HhDj1rApQIqldb96bIOeew               4.0   \n",
       "15  SiNxRHSaS8G-pHTRAYxwgw              23.0   \n",
       "16  R9x735TcTr-M7e4nUt_gaQ               0.0   \n",
       "17  EPfDsFcZR1iuQifFdv_xfg               1.0   \n",
       "18  d5LHxGqZQ5GyWfeVcXJejg               7.0   \n",
       "19  EnVsfBmGRUKeRCHRBIi5LQ               5.0   \n",
       "\n",
       "                                               tokens  \\\n",
       "0   [wXvP3enu, wXvHXzUS, wXvPHXVe, wXvPHRs3, wXvH3...   \n",
       "1   [wXujANbk, wXurAJsf, wXufwlh1, wXtr_4tD, wXujg...   \n",
       "2   [wXvHbNqU, wXvDrof9, wXv_aXHk, wXvDrSIa, wXv_a...   \n",
       "3   [wXvb7cpv, wXvH3hL0, wXvjmDaE, wXvT0sOS, wXv_j...   \n",
       "4   [wXvjJTIc, wXvb5_SX, wXvb54Gs, wXvb5t6J, wXvbJ...   \n",
       "5   [wXv_oVL4, wXvrIudl, wXknzwdX, wXkbK0Wb, wXvPI...   \n",
       "6   [wXr_DuyQ, wXpr43e5, wXl_rC8t, wXkLrzBv, wXV7M...   \n",
       "7   [wXgL_Qy4, wXgbuOTt, wXgXOEvJ, wXg_tgDN, wXgz9...   \n",
       "8   [wXvra2va, wXvr6ZFP, wXvrKWRu, wXvnq-z5, wXvnq...   \n",
       "9   [wXtTMTN2, wXtDsp1i, wXt3b-pm, wXtHbD2p, wXgjX...   \n",
       "10  [wXvLZP0T, wXvb4C_I, wXvzG7ou, wXvjnj37, wXvT2...   \n",
       "11  [wXvfkbJ6, wXv71Lf6, wXv3xhXO, wXuXPJTr, wXuDO...   \n",
       "12  [wXuHsrRf, wXZ7r9rW, wXvjRWxJ, wXvnjbFd, wXvXD...   \n",
       "13  [wXvT19Q2, wXvTW3yO, wXvbGsgj, wXvD0GYJ, wXvDE...   \n",
       "14  [wXvPmZil, wXvPGMXH, wXvXmA7z, wXvXWCoO, wXvDE...   \n",
       "15  [wXPfUT39, wXqPRJv2, wXq7gavO, wXq7gkrH, wXqTQ...   \n",
       "16  [wXvfRwwa, wXvzwZ5r, wXgDahmm, wXt7oNIV, wXtvX...   \n",
       "17  [wXt7LAgw, wXvzI2Rh, wXvbombi, wXvrmZ9H, wXvzI...   \n",
       "18  [wXsjAZOd, wXsDwdYI, wXrDPcnV, wXr3K6FY, wXrbq...   \n",
       "19  [wXsXTvtL, wXs7ykst, wXsvhttK, wXsfxQXH, wXsXx...   \n",
       "\n",
       "    post_index_in_post_list post_token  \n",
       "0                       NaN        NaN  \n",
       "1                       NaN        NaN  \n",
       "2                       NaN        NaN  \n",
       "3                       NaN        NaN  \n",
       "4                       NaN        NaN  \n",
       "5                       NaN        NaN  \n",
       "6                       NaN        NaN  \n",
       "7                       NaN        NaN  \n",
       "8                       NaN        NaN  \n",
       "9                       NaN        NaN  \n",
       "10                      NaN        NaN  \n",
       "11                      NaN        NaN  \n",
       "12                      NaN        NaN  \n",
       "13                      NaN        NaN  \n",
       "14                      NaN        NaN  \n",
       "15                      NaN        NaN  \n",
       "16                      NaN        NaN  \n",
       "17                      NaN        NaN  \n",
       "18                      NaN        NaN  \n",
       "19                      NaN        NaN  "
      ]
     },
     "execution_count": 4,
     "metadata": {},
     "output_type": "execute_result"
    }
   ],
   "source": [
    "# seeing the first 20 rows of df\n",
    "df.head(20)"
   ]
  },
  {
   "cell_type": "markdown",
   "metadata": {},
   "source": [
    "### Error 1: duplicates in data"
   ]
  },
  {
   "cell_type": "code",
   "execution_count": 5,
   "metadata": {},
   "outputs": [
    {
     "data": {
      "text/plain": [
       "67"
      ]
     },
     "execution_count": 5,
     "metadata": {},
     "output_type": "execute_result"
    }
   ],
   "source": [
    "# getting number of duplicated rows: for example if we have 3 identical rows this returns 2\n",
    "df.duplicated().sum()"
   ]
  },
  {
   "cell_type": "code",
   "execution_count": 6,
   "metadata": {},
   "outputs": [],
   "source": [
    "# dropping duplicates\n",
    "df.drop_duplicates(inplace=True)"
   ]
  },
  {
   "cell_type": "code",
   "execution_count": 7,
   "metadata": {},
   "outputs": [
    {
     "data": {
      "text/plain": [
       "(111016, 8)"
      ]
     },
     "execution_count": 7,
     "metadata": {},
     "output_type": "execute_result"
    }
   ],
   "source": [
    "# getting the shape of df\n",
    "df.shape"
   ]
  },
  {
   "cell_type": "markdown",
   "metadata": {},
   "source": [
    "متوجه میشویم که دیتاست ما بعد از اصلاح ۱۱۱۰۱۶ تا سطر و ۸ ستون دارد. با توجه به توضیحات تسک، همه ی سطر ها باید\n",
    "\n",
    "action, created_at, source_event_id \n",
    "\n",
    "داشته باشند."
   ]
  },
  {
   "cell_type": "code",
   "execution_count": 8,
   "metadata": {},
   "outputs": [],
   "source": [
    "assert(df.shape[0] == df.count()['action'] == df.count()['created_at'] == df.count()['source_event_id'])"
   ]
  },
  {
   "cell_type": "markdown",
   "metadata": {},
   "source": [
    "### Error 2: NaN device IDs"
   ]
  },
  {
   "cell_type": "code",
   "execution_count": 9,
   "metadata": {},
   "outputs": [
    {
     "name": "stdout",
     "output_type": "stream",
     "text": [
      "<class 'pandas.core.frame.DataFrame'>\n",
      "Int64Index: 111016 entries, 0 to 111082\n",
      "Data columns (total 8 columns):\n",
      " #   Column                   Non-Null Count   Dtype  \n",
      "---  ------                   --------------   -----  \n",
      " 0   action                   111016 non-null  object \n",
      " 1   created_at               111016 non-null  int64  \n",
      " 2   source_event_id          111016 non-null  object \n",
      " 3   device_id                109529 non-null  object \n",
      " 4   post_page_offset         35265 non-null   float64\n",
      " 5   tokens                   35265 non-null   object \n",
      " 6   post_index_in_post_list  75751 non-null   float64\n",
      " 7   post_token               75750 non-null   object \n",
      "dtypes: float64(2), int64(1), object(5)\n",
      "memory usage: 7.6+ MB\n"
     ]
    }
   ],
   "source": [
    "# getting info for each column of df\n",
    "df.info()"
   ]
  },
  {
   "cell_type": "markdown",
   "metadata": {},
   "source": [
    "به نظر می آید همه ی سطرها هم باید \n",
    "\n",
    "device_id \n",
    "\n",
    "داشته باشند. هر چند میتواند اینطور نباشد و اگر کاربر مهمانی وارد شود شناسه ای برای او ثبت نشود. از بک اپلیکیشن دیوار خبر ندارم و این نکته را به عنوان نیمچه ارور در نظر میگیرم."
   ]
  },
  {
   "cell_type": "code",
   "execution_count": 10,
   "metadata": {},
   "outputs": [
    {
     "data": {
      "text/plain": [
       "False"
      ]
     },
     "execution_count": 10,
     "metadata": {},
     "output_type": "execute_result"
    }
   ],
   "source": [
    "df.shape[0] == df.count()['device_id']"
   ]
  },
  {
   "cell_type": "markdown",
   "metadata": {},
   "source": [
    "### Error 3: one missing data in post_token"
   ]
  },
  {
   "cell_type": "markdown",
   "metadata": {},
   "source": [
    "تعداد سطرهای لود و تعداد سطر های کلیک باید تعداد سطرهای کلی را بسازد."
   ]
  },
  {
   "cell_type": "code",
   "execution_count": 11,
   "metadata": {},
   "outputs": [],
   "source": [
    "clicked_df = df[df['post_index_in_post_list'].notna() & df['post_token'].notna()].copy()"
   ]
  },
  {
   "cell_type": "code",
   "execution_count": 12,
   "metadata": {},
   "outputs": [],
   "source": [
    "loaded_df = df[df['post_page_offset'].notna() & df['tokens'].notna()].copy()"
   ]
  },
  {
   "cell_type": "code",
   "execution_count": 13,
   "metadata": {},
   "outputs": [
    {
     "data": {
      "text/plain": [
       "False"
      ]
     },
     "execution_count": 13,
     "metadata": {},
     "output_type": "execute_result"
    }
   ],
   "source": [
    "df.shape[0] == loaded_df.shape[0] + clicked_df.shape[0]"
   ]
  },
  {
   "cell_type": "code",
   "execution_count": 14,
   "metadata": {},
   "outputs": [
    {
     "data": {
      "text/plain": [
       "True"
      ]
     },
     "execution_count": 14,
     "metadata": {},
     "output_type": "execute_result"
    }
   ],
   "source": [
    "loaded_df.shape[0] == df.count()['post_page_offset']"
   ]
  },
  {
   "cell_type": "code",
   "execution_count": 15,
   "metadata": {},
   "outputs": [
    {
     "data": {
      "text/plain": [
       "True"
      ]
     },
     "execution_count": 15,
     "metadata": {},
     "output_type": "execute_result"
    }
   ],
   "source": [
    "loaded_df.shape[0] == df.count()['tokens']"
   ]
  },
  {
   "cell_type": "code",
   "execution_count": 16,
   "metadata": {},
   "outputs": [
    {
     "data": {
      "text/plain": [
       "False"
      ]
     },
     "execution_count": 16,
     "metadata": {},
     "output_type": "execute_result"
    }
   ],
   "source": [
    "clicked_df.shape[0] == df.count()['post_index_in_post_list']"
   ]
  },
  {
   "cell_type": "code",
   "execution_count": 17,
   "metadata": {
    "scrolled": true
   },
   "outputs": [
    {
     "data": {
      "text/plain": [
       "True"
      ]
     },
     "execution_count": 17,
     "metadata": {},
     "output_type": "execute_result"
    }
   ],
   "source": [
    "clicked_df.shape[0] == df.count()['post_token']"
   ]
  },
  {
   "cell_type": "markdown",
   "metadata": {},
   "source": [
    "از مقایسه های بالا متوجه میشویم که سطری با اکشن کلیک وجود دارد که \n",
    "\n",
    "post_token\n",
    "\n",
    "ندارد"
   ]
  },
  {
   "cell_type": "code",
   "execution_count": 18,
   "metadata": {
    "scrolled": true
   },
   "outputs": [
    {
     "data": {
      "text/plain": [
       "action                      object\n",
       "created_at                   int64\n",
       "source_event_id             object\n",
       "device_id                   object\n",
       "post_page_offset           float64\n",
       "tokens                      object\n",
       "post_index_in_post_list    float64\n",
       "post_token                  object\n",
       "dtype: object"
      ]
     },
     "execution_count": 18,
     "metadata": {},
     "output_type": "execute_result"
    }
   ],
   "source": [
    "# type of each column\n",
    "df.dtypes"
   ]
  },
  {
   "cell_type": "code",
   "execution_count": 19,
   "metadata": {},
   "outputs": [
    {
     "data": {
      "text/html": [
       "<div>\n",
       "<style scoped>\n",
       "    .dataframe tbody tr th:only-of-type {\n",
       "        vertical-align: middle;\n",
       "    }\n",
       "\n",
       "    .dataframe tbody tr th {\n",
       "        vertical-align: top;\n",
       "    }\n",
       "\n",
       "    .dataframe thead th {\n",
       "        text-align: right;\n",
       "    }\n",
       "</style>\n",
       "<table border=\"1\" class=\"dataframe\">\n",
       "  <thead>\n",
       "    <tr style=\"text-align: right;\">\n",
       "      <th></th>\n",
       "      <th>created_at</th>\n",
       "      <th>post_page_offset</th>\n",
       "      <th>post_index_in_post_list</th>\n",
       "    </tr>\n",
       "  </thead>\n",
       "  <tbody>\n",
       "    <tr>\n",
       "      <th>count</th>\n",
       "      <td>1.110160e+05</td>\n",
       "      <td>35265.000000</td>\n",
       "      <td>75751.000000</td>\n",
       "    </tr>\n",
       "    <tr>\n",
       "      <th>mean</th>\n",
       "      <td>1.609545e+12</td>\n",
       "      <td>8.675117</td>\n",
       "      <td>127.666856</td>\n",
       "    </tr>\n",
       "    <tr>\n",
       "      <th>std</th>\n",
       "      <td>2.896236e+06</td>\n",
       "      <td>16.059001</td>\n",
       "      <td>273.052387</td>\n",
       "    </tr>\n",
       "    <tr>\n",
       "      <th>min</th>\n",
       "      <td>1.609461e+12</td>\n",
       "      <td>0.000000</td>\n",
       "      <td>1.000000</td>\n",
       "    </tr>\n",
       "    <tr>\n",
       "      <th>25%</th>\n",
       "      <td>1.609544e+12</td>\n",
       "      <td>0.000000</td>\n",
       "      <td>11.000000</td>\n",
       "    </tr>\n",
       "    <tr>\n",
       "      <th>50%</th>\n",
       "      <td>1.609545e+12</td>\n",
       "      <td>3.000000</td>\n",
       "      <td>41.000000</td>\n",
       "    </tr>\n",
       "    <tr>\n",
       "      <th>75%</th>\n",
       "      <td>1.609546e+12</td>\n",
       "      <td>9.000000</td>\n",
       "      <td>124.000000</td>\n",
       "    </tr>\n",
       "    <tr>\n",
       "      <th>max</th>\n",
       "      <td>1.609634e+12</td>\n",
       "      <td>161.000000</td>\n",
       "      <td>5176.000000</td>\n",
       "    </tr>\n",
       "  </tbody>\n",
       "</table>\n",
       "</div>"
      ],
      "text/plain": [
       "         created_at  post_page_offset  post_index_in_post_list\n",
       "count  1.110160e+05      35265.000000             75751.000000\n",
       "mean   1.609545e+12          8.675117               127.666856\n",
       "std    2.896236e+06         16.059001               273.052387\n",
       "min    1.609461e+12          0.000000                 1.000000\n",
       "25%    1.609544e+12          0.000000                11.000000\n",
       "50%    1.609545e+12          3.000000                41.000000\n",
       "75%    1.609546e+12          9.000000               124.000000\n",
       "max    1.609634e+12        161.000000              5176.000000"
      ]
     },
     "execution_count": 19,
     "metadata": {},
     "output_type": "execute_result"
    }
   ],
   "source": [
    "# getting a description of non object column of df\n",
    "df.describe()"
   ]
  },
  {
   "cell_type": "code",
   "execution_count": 20,
   "metadata": {},
   "outputs": [],
   "source": [
    "# cleaning clicked_df\n",
    "clicked_df.drop(columns=['action', 'post_page_offset', 'tokens'], inplace=True)\n",
    "clicked_df.reset_index(inplace=True)\n",
    "clicked_df.drop(columns='index', inplace=True)"
   ]
  },
  {
   "cell_type": "code",
   "execution_count": 21,
   "metadata": {},
   "outputs": [
    {
     "data": {
      "text/html": [
       "<div>\n",
       "<style scoped>\n",
       "    .dataframe tbody tr th:only-of-type {\n",
       "        vertical-align: middle;\n",
       "    }\n",
       "\n",
       "    .dataframe tbody tr th {\n",
       "        vertical-align: top;\n",
       "    }\n",
       "\n",
       "    .dataframe thead th {\n",
       "        text-align: right;\n",
       "    }\n",
       "</style>\n",
       "<table border=\"1\" class=\"dataframe\">\n",
       "  <thead>\n",
       "    <tr style=\"text-align: right;\">\n",
       "      <th></th>\n",
       "      <th>created_at</th>\n",
       "      <th>source_event_id</th>\n",
       "      <th>device_id</th>\n",
       "      <th>post_page_offset</th>\n",
       "      <th>tokens</th>\n",
       "    </tr>\n",
       "  </thead>\n",
       "  <tbody>\n",
       "    <tr>\n",
       "      <th>0</th>\n",
       "      <td>1609545001150</td>\n",
       "      <td>1575558c-a702-46ef-8e18-bc5cef761473</td>\n",
       "      <td>Ed9EADRZRXCHcrcEP_Hnkg</td>\n",
       "      <td>26.0</td>\n",
       "      <td>[wXvP3enu, wXvHXzUS, wXvPHXVe, wXvPHRs3, wXvH3...</td>\n",
       "    </tr>\n",
       "    <tr>\n",
       "      <th>1</th>\n",
       "      <td>1609545121641</td>\n",
       "      <td>0fd004f4-ce9b-4766-ac96-7578dedebacb</td>\n",
       "      <td>5aVIp_PNSAWxqwBETYpmxQ</td>\n",
       "      <td>19.0</td>\n",
       "      <td>[wXujANbk, wXurAJsf, wXufwlh1, wXtr_4tD, wXujg...</td>\n",
       "    </tr>\n",
       "    <tr>\n",
       "      <th>2</th>\n",
       "      <td>1609545009147</td>\n",
       "      <td>479905f2-3bb4-4c90-8e88-5ce4b60d0a73</td>\n",
       "      <td>mt0UAT4AQe2dECdXBvKYBA</td>\n",
       "      <td>0.0</td>\n",
       "      <td>[wXvHbNqU, wXvDrof9, wXv_aXHk, wXvDrSIa, wXv_a...</td>\n",
       "    </tr>\n",
       "    <tr>\n",
       "      <th>3</th>\n",
       "      <td>1609546776979</td>\n",
       "      <td>b9b609bd-a486-42fb-b1a9-5ca03cf4a215</td>\n",
       "      <td>huSKUX-mSwyUcGzgSbXX6g</td>\n",
       "      <td>0.0</td>\n",
       "      <td>[wXvb7cpv, wXvH3hL0, wXvjmDaE, wXvT0sOS, wXv_j...</td>\n",
       "    </tr>\n",
       "    <tr>\n",
       "      <th>4</th>\n",
       "      <td>1609547182717</td>\n",
       "      <td>6c390fce-34b6-4e19-837e-6bc295a72514</td>\n",
       "      <td>sL5fLDdoR9a7aDGPP8N-jA</td>\n",
       "      <td>1.0</td>\n",
       "      <td>[wXvjJTIc, wXvb5_SX, wXvb54Gs, wXvb5t6J, wXvbJ...</td>\n",
       "    </tr>\n",
       "    <tr>\n",
       "      <th>...</th>\n",
       "      <td>...</td>\n",
       "      <td>...</td>\n",
       "      <td>...</td>\n",
       "      <td>...</td>\n",
       "      <td>...</td>\n",
       "    </tr>\n",
       "    <tr>\n",
       "      <th>35260</th>\n",
       "      <td>1609546941659</td>\n",
       "      <td>f55b2133-4f95-4cc5-8d18-1b47bd3dca63</td>\n",
       "      <td>hiJArdXuQ_a3zVxEsmkDjQ</td>\n",
       "      <td>0.0</td>\n",
       "      <td>[wXv3qoPQ, wXvT7ylu, wXvnIJuH, wXvXH7vy, wXvDX...</td>\n",
       "    </tr>\n",
       "    <tr>\n",
       "      <th>35261</th>\n",
       "      <td>1609547257051</td>\n",
       "      <td>14282fc7-f431-43b6-8c07-423f33be3d74</td>\n",
       "      <td>NaN</td>\n",
       "      <td>1.0</td>\n",
       "      <td>[wXYr2lVk, wXXj7iDP, wXXXIsQr, wXQbXKz6, wXN3t...</td>\n",
       "    </tr>\n",
       "    <tr>\n",
       "      <th>35262</th>\n",
       "      <td>1609546292003</td>\n",
       "      <td>0a859885-a19b-4420-a9e4-2259eca6765d</td>\n",
       "      <td>g0IAfhwXTYa5rdrk96jXFQ</td>\n",
       "      <td>9.0</td>\n",
       "      <td>[wXr_jZmX, wXr7D0AM, wXrzjhxL, wXrfjQNe, wXrni...</td>\n",
       "    </tr>\n",
       "    <tr>\n",
       "      <th>35263</th>\n",
       "      <td>1609546304942</td>\n",
       "      <td>4ec64b79-27c4-4fba-b84c-b877dc82970a</td>\n",
       "      <td>TzlVSQK7S16V0TPyGELMKQ</td>\n",
       "      <td>0.0</td>\n",
       "      <td>[wXv3aQrv, wXvn6ONM, wXvfaG0M, wXvf6LIr, wXvjJ...</td>\n",
       "    </tr>\n",
       "    <tr>\n",
       "      <th>35264</th>\n",
       "      <td>1609547165297</td>\n",
       "      <td>5ea5de7d-1f85-4251-b3c1-6e71d4730fd4</td>\n",
       "      <td>Xe03AM5rQgu6jpGPZ4mGEw</td>\n",
       "      <td>2.0</td>\n",
       "      <td>[wXoDui-2, wXoT9yTg, wXoznZ93, wXormLxu, wXMX-...</td>\n",
       "    </tr>\n",
       "  </tbody>\n",
       "</table>\n",
       "<p>35265 rows × 5 columns</p>\n",
       "</div>"
      ],
      "text/plain": [
       "          created_at                       source_event_id  \\\n",
       "0      1609545001150  1575558c-a702-46ef-8e18-bc5cef761473   \n",
       "1      1609545121641  0fd004f4-ce9b-4766-ac96-7578dedebacb   \n",
       "2      1609545009147  479905f2-3bb4-4c90-8e88-5ce4b60d0a73   \n",
       "3      1609546776979  b9b609bd-a486-42fb-b1a9-5ca03cf4a215   \n",
       "4      1609547182717  6c390fce-34b6-4e19-837e-6bc295a72514   \n",
       "...              ...                                   ...   \n",
       "35260  1609546941659  f55b2133-4f95-4cc5-8d18-1b47bd3dca63   \n",
       "35261  1609547257051  14282fc7-f431-43b6-8c07-423f33be3d74   \n",
       "35262  1609546292003  0a859885-a19b-4420-a9e4-2259eca6765d   \n",
       "35263  1609546304942  4ec64b79-27c4-4fba-b84c-b877dc82970a   \n",
       "35264  1609547165297  5ea5de7d-1f85-4251-b3c1-6e71d4730fd4   \n",
       "\n",
       "                    device_id  post_page_offset  \\\n",
       "0      Ed9EADRZRXCHcrcEP_Hnkg              26.0   \n",
       "1      5aVIp_PNSAWxqwBETYpmxQ              19.0   \n",
       "2      mt0UAT4AQe2dECdXBvKYBA               0.0   \n",
       "3      huSKUX-mSwyUcGzgSbXX6g               0.0   \n",
       "4      sL5fLDdoR9a7aDGPP8N-jA               1.0   \n",
       "...                       ...               ...   \n",
       "35260  hiJArdXuQ_a3zVxEsmkDjQ               0.0   \n",
       "35261                     NaN               1.0   \n",
       "35262  g0IAfhwXTYa5rdrk96jXFQ               9.0   \n",
       "35263  TzlVSQK7S16V0TPyGELMKQ               0.0   \n",
       "35264  Xe03AM5rQgu6jpGPZ4mGEw               2.0   \n",
       "\n",
       "                                                  tokens  \n",
       "0      [wXvP3enu, wXvHXzUS, wXvPHXVe, wXvPHRs3, wXvH3...  \n",
       "1      [wXujANbk, wXurAJsf, wXufwlh1, wXtr_4tD, wXujg...  \n",
       "2      [wXvHbNqU, wXvDrof9, wXv_aXHk, wXvDrSIa, wXv_a...  \n",
       "3      [wXvb7cpv, wXvH3hL0, wXvjmDaE, wXvT0sOS, wXv_j...  \n",
       "4      [wXvjJTIc, wXvb5_SX, wXvb54Gs, wXvb5t6J, wXvbJ...  \n",
       "...                                                  ...  \n",
       "35260  [wXv3qoPQ, wXvT7ylu, wXvnIJuH, wXvXH7vy, wXvDX...  \n",
       "35261  [wXYr2lVk, wXXj7iDP, wXXXIsQr, wXQbXKz6, wXN3t...  \n",
       "35262  [wXr_jZmX, wXr7D0AM, wXrzjhxL, wXrfjQNe, wXrni...  \n",
       "35263  [wXv3aQrv, wXvn6ONM, wXvfaG0M, wXvf6LIr, wXvjJ...  \n",
       "35264  [wXoDui-2, wXoT9yTg, wXoznZ93, wXormLxu, wXMX-...  \n",
       "\n",
       "[35265 rows x 5 columns]"
      ]
     },
     "execution_count": 21,
     "metadata": {},
     "output_type": "execute_result"
    }
   ],
   "source": [
    "# cleaning loaded_df\n",
    "loaded_df.drop(columns=['post_index_in_post_list', 'action', 'post_token'], inplace=True)\n",
    "loaded_df.reset_index(inplace=True)\n",
    "loaded_df.drop(columns='index')"
   ]
  },
  {
   "cell_type": "code",
   "execution_count": 22,
   "metadata": {},
   "outputs": [
    {
     "data": {
      "text/html": [
       "<div>\n",
       "<style scoped>\n",
       "    .dataframe tbody tr th:only-of-type {\n",
       "        vertical-align: middle;\n",
       "    }\n",
       "\n",
       "    .dataframe tbody tr th {\n",
       "        vertical-align: top;\n",
       "    }\n",
       "\n",
       "    .dataframe thead th {\n",
       "        text-align: right;\n",
       "    }\n",
       "</style>\n",
       "<table border=\"1\" class=\"dataframe\">\n",
       "  <thead>\n",
       "    <tr style=\"text-align: right;\">\n",
       "      <th></th>\n",
       "      <th>index</th>\n",
       "      <th>created_at</th>\n",
       "      <th>source_event_id</th>\n",
       "      <th>device_id</th>\n",
       "      <th>post_page_offset</th>\n",
       "      <th>tokens</th>\n",
       "    </tr>\n",
       "  </thead>\n",
       "  <tbody>\n",
       "    <tr>\n",
       "      <th>0</th>\n",
       "      <td>0</td>\n",
       "      <td>1609545001150</td>\n",
       "      <td>1575558c-a702-46ef-8e18-bc5cef761473</td>\n",
       "      <td>Ed9EADRZRXCHcrcEP_Hnkg</td>\n",
       "      <td>26.0</td>\n",
       "      <td>[wXvP3enu, wXvHXzUS, wXvPHXVe, wXvPHRs3, wXvH3...</td>\n",
       "    </tr>\n",
       "    <tr>\n",
       "      <th>1</th>\n",
       "      <td>1</td>\n",
       "      <td>1609545121641</td>\n",
       "      <td>0fd004f4-ce9b-4766-ac96-7578dedebacb</td>\n",
       "      <td>5aVIp_PNSAWxqwBETYpmxQ</td>\n",
       "      <td>19.0</td>\n",
       "      <td>[wXujANbk, wXurAJsf, wXufwlh1, wXtr_4tD, wXujg...</td>\n",
       "    </tr>\n",
       "    <tr>\n",
       "      <th>2</th>\n",
       "      <td>2</td>\n",
       "      <td>1609545009147</td>\n",
       "      <td>479905f2-3bb4-4c90-8e88-5ce4b60d0a73</td>\n",
       "      <td>mt0UAT4AQe2dECdXBvKYBA</td>\n",
       "      <td>0.0</td>\n",
       "      <td>[wXvHbNqU, wXvDrof9, wXv_aXHk, wXvDrSIa, wXv_a...</td>\n",
       "    </tr>\n",
       "    <tr>\n",
       "      <th>3</th>\n",
       "      <td>3</td>\n",
       "      <td>1609546776979</td>\n",
       "      <td>b9b609bd-a486-42fb-b1a9-5ca03cf4a215</td>\n",
       "      <td>huSKUX-mSwyUcGzgSbXX6g</td>\n",
       "      <td>0.0</td>\n",
       "      <td>[wXvb7cpv, wXvH3hL0, wXvjmDaE, wXvT0sOS, wXv_j...</td>\n",
       "    </tr>\n",
       "    <tr>\n",
       "      <th>4</th>\n",
       "      <td>4</td>\n",
       "      <td>1609547182717</td>\n",
       "      <td>6c390fce-34b6-4e19-837e-6bc295a72514</td>\n",
       "      <td>sL5fLDdoR9a7aDGPP8N-jA</td>\n",
       "      <td>1.0</td>\n",
       "      <td>[wXvjJTIc, wXvb5_SX, wXvb54Gs, wXvb5t6J, wXvbJ...</td>\n",
       "    </tr>\n",
       "    <tr>\n",
       "      <th>...</th>\n",
       "      <td>...</td>\n",
       "      <td>...</td>\n",
       "      <td>...</td>\n",
       "      <td>...</td>\n",
       "      <td>...</td>\n",
       "      <td>...</td>\n",
       "    </tr>\n",
       "    <tr>\n",
       "      <th>35260</th>\n",
       "      <td>111078</td>\n",
       "      <td>1609546941659</td>\n",
       "      <td>f55b2133-4f95-4cc5-8d18-1b47bd3dca63</td>\n",
       "      <td>hiJArdXuQ_a3zVxEsmkDjQ</td>\n",
       "      <td>0.0</td>\n",
       "      <td>[wXv3qoPQ, wXvT7ylu, wXvnIJuH, wXvXH7vy, wXvDX...</td>\n",
       "    </tr>\n",
       "    <tr>\n",
       "      <th>35261</th>\n",
       "      <td>111079</td>\n",
       "      <td>1609547257051</td>\n",
       "      <td>14282fc7-f431-43b6-8c07-423f33be3d74</td>\n",
       "      <td>NaN</td>\n",
       "      <td>1.0</td>\n",
       "      <td>[wXYr2lVk, wXXj7iDP, wXXXIsQr, wXQbXKz6, wXN3t...</td>\n",
       "    </tr>\n",
       "    <tr>\n",
       "      <th>35262</th>\n",
       "      <td>111080</td>\n",
       "      <td>1609546292003</td>\n",
       "      <td>0a859885-a19b-4420-a9e4-2259eca6765d</td>\n",
       "      <td>g0IAfhwXTYa5rdrk96jXFQ</td>\n",
       "      <td>9.0</td>\n",
       "      <td>[wXr_jZmX, wXr7D0AM, wXrzjhxL, wXrfjQNe, wXrni...</td>\n",
       "    </tr>\n",
       "    <tr>\n",
       "      <th>35263</th>\n",
       "      <td>111081</td>\n",
       "      <td>1609546304942</td>\n",
       "      <td>4ec64b79-27c4-4fba-b84c-b877dc82970a</td>\n",
       "      <td>TzlVSQK7S16V0TPyGELMKQ</td>\n",
       "      <td>0.0</td>\n",
       "      <td>[wXv3aQrv, wXvn6ONM, wXvfaG0M, wXvf6LIr, wXvjJ...</td>\n",
       "    </tr>\n",
       "    <tr>\n",
       "      <th>35264</th>\n",
       "      <td>111082</td>\n",
       "      <td>1609547165297</td>\n",
       "      <td>5ea5de7d-1f85-4251-b3c1-6e71d4730fd4</td>\n",
       "      <td>Xe03AM5rQgu6jpGPZ4mGEw</td>\n",
       "      <td>2.0</td>\n",
       "      <td>[wXoDui-2, wXoT9yTg, wXoznZ93, wXormLxu, wXMX-...</td>\n",
       "    </tr>\n",
       "  </tbody>\n",
       "</table>\n",
       "<p>35265 rows × 6 columns</p>\n",
       "</div>"
      ],
      "text/plain": [
       "        index     created_at                       source_event_id  \\\n",
       "0           0  1609545001150  1575558c-a702-46ef-8e18-bc5cef761473   \n",
       "1           1  1609545121641  0fd004f4-ce9b-4766-ac96-7578dedebacb   \n",
       "2           2  1609545009147  479905f2-3bb4-4c90-8e88-5ce4b60d0a73   \n",
       "3           3  1609546776979  b9b609bd-a486-42fb-b1a9-5ca03cf4a215   \n",
       "4           4  1609547182717  6c390fce-34b6-4e19-837e-6bc295a72514   \n",
       "...       ...            ...                                   ...   \n",
       "35260  111078  1609546941659  f55b2133-4f95-4cc5-8d18-1b47bd3dca63   \n",
       "35261  111079  1609547257051  14282fc7-f431-43b6-8c07-423f33be3d74   \n",
       "35262  111080  1609546292003  0a859885-a19b-4420-a9e4-2259eca6765d   \n",
       "35263  111081  1609546304942  4ec64b79-27c4-4fba-b84c-b877dc82970a   \n",
       "35264  111082  1609547165297  5ea5de7d-1f85-4251-b3c1-6e71d4730fd4   \n",
       "\n",
       "                    device_id  post_page_offset  \\\n",
       "0      Ed9EADRZRXCHcrcEP_Hnkg              26.0   \n",
       "1      5aVIp_PNSAWxqwBETYpmxQ              19.0   \n",
       "2      mt0UAT4AQe2dECdXBvKYBA               0.0   \n",
       "3      huSKUX-mSwyUcGzgSbXX6g               0.0   \n",
       "4      sL5fLDdoR9a7aDGPP8N-jA               1.0   \n",
       "...                       ...               ...   \n",
       "35260  hiJArdXuQ_a3zVxEsmkDjQ               0.0   \n",
       "35261                     NaN               1.0   \n",
       "35262  g0IAfhwXTYa5rdrk96jXFQ               9.0   \n",
       "35263  TzlVSQK7S16V0TPyGELMKQ               0.0   \n",
       "35264  Xe03AM5rQgu6jpGPZ4mGEw               2.0   \n",
       "\n",
       "                                                  tokens  \n",
       "0      [wXvP3enu, wXvHXzUS, wXvPHXVe, wXvPHRs3, wXvH3...  \n",
       "1      [wXujANbk, wXurAJsf, wXufwlh1, wXtr_4tD, wXujg...  \n",
       "2      [wXvHbNqU, wXvDrof9, wXv_aXHk, wXvDrSIa, wXv_a...  \n",
       "3      [wXvb7cpv, wXvH3hL0, wXvjmDaE, wXvT0sOS, wXv_j...  \n",
       "4      [wXvjJTIc, wXvb5_SX, wXvb54Gs, wXvb5t6J, wXvbJ...  \n",
       "...                                                  ...  \n",
       "35260  [wXv3qoPQ, wXvT7ylu, wXvnIJuH, wXvXH7vy, wXvDX...  \n",
       "35261  [wXYr2lVk, wXXj7iDP, wXXXIsQr, wXQbXKz6, wXN3t...  \n",
       "35262  [wXr_jZmX, wXr7D0AM, wXrzjhxL, wXrfjQNe, wXrni...  \n",
       "35263  [wXv3aQrv, wXvn6ONM, wXvfaG0M, wXvf6LIr, wXvjJ...  \n",
       "35264  [wXoDui-2, wXoT9yTg, wXoznZ93, wXormLxu, wXMX-...  \n",
       "\n",
       "[35265 rows x 6 columns]"
      ]
     },
     "execution_count": 22,
     "metadata": {},
     "output_type": "execute_result"
    }
   ],
   "source": [
    "loaded_df"
   ]
  },
  {
   "cell_type": "code",
   "execution_count": 23,
   "metadata": {},
   "outputs": [
    {
     "data": {
      "text/html": [
       "<div>\n",
       "<style scoped>\n",
       "    .dataframe tbody tr th:only-of-type {\n",
       "        vertical-align: middle;\n",
       "    }\n",
       "\n",
       "    .dataframe tbody tr th {\n",
       "        vertical-align: top;\n",
       "    }\n",
       "\n",
       "    .dataframe thead th {\n",
       "        text-align: right;\n",
       "    }\n",
       "</style>\n",
       "<table border=\"1\" class=\"dataframe\">\n",
       "  <thead>\n",
       "    <tr style=\"text-align: right;\">\n",
       "      <th></th>\n",
       "      <th>created_at</th>\n",
       "      <th>source_event_id</th>\n",
       "      <th>device_id</th>\n",
       "      <th>post_index_in_post_list</th>\n",
       "      <th>post_token</th>\n",
       "    </tr>\n",
       "  </thead>\n",
       "  <tbody>\n",
       "    <tr>\n",
       "      <th>0</th>\n",
       "      <td>1609545002418</td>\n",
       "      <td>be60130c-a660-4e23-954d-9bcf08377b24</td>\n",
       "      <td>VVaoaGZQQcysup51b96xFQ</td>\n",
       "      <td>3.0</td>\n",
       "      <td>wXq3yGW3</td>\n",
       "    </tr>\n",
       "    <tr>\n",
       "      <th>1</th>\n",
       "      <td>1609545878642</td>\n",
       "      <td>7cb93ab5-e0ec-4d5a-9245-b2e3ad87b9c3</td>\n",
       "      <td>kMPcgmnnRzGoVRomPVRz9A</td>\n",
       "      <td>267.0</td>\n",
       "      <td>wXrn2a0w</td>\n",
       "    </tr>\n",
       "    <tr>\n",
       "      <th>2</th>\n",
       "      <td>1609544879533</td>\n",
       "      <td>461e9683-e679-4448-bee3-d0b07353ab5d</td>\n",
       "      <td>bjiXJIm6RaWaw_7ASh5Gdw</td>\n",
       "      <td>6.0</td>\n",
       "      <td>wXv7xXEj</td>\n",
       "    </tr>\n",
       "    <tr>\n",
       "      <th>3</th>\n",
       "      <td>1609544027300</td>\n",
       "      <td>969745e6-25e5-46af-8c1b-f506429944f6</td>\n",
       "      <td>odyBXuz3Qn2-gmdEX-_ZOg</td>\n",
       "      <td>17.0</td>\n",
       "      <td>wXnnSi0l</td>\n",
       "    </tr>\n",
       "    <tr>\n",
       "      <th>4</th>\n",
       "      <td>1609547063017</td>\n",
       "      <td>5c422ed2-c7d5-4653-ac9c-1e2e890b97b5</td>\n",
       "      <td>_lgH2bn7Ty-6DuxrClGKUw</td>\n",
       "      <td>174.0</td>\n",
       "      <td>wXqv95zt</td>\n",
       "    </tr>\n",
       "    <tr>\n",
       "      <th>...</th>\n",
       "      <td>...</td>\n",
       "      <td>...</td>\n",
       "      <td>...</td>\n",
       "      <td>...</td>\n",
       "      <td>...</td>\n",
       "    </tr>\n",
       "    <tr>\n",
       "      <th>75745</th>\n",
       "      <td>1609545199893</td>\n",
       "      <td>5d4fd83c-493e-4f69-9949-7346a920631b</td>\n",
       "      <td>rFmwmYDmRkeV8NMdlBjMfQ</td>\n",
       "      <td>94.0</td>\n",
       "      <td>wXvnlWej</td>\n",
       "    </tr>\n",
       "    <tr>\n",
       "      <th>75746</th>\n",
       "      <td>1609546991162</td>\n",
       "      <td>7719cd95-5fab-4431-ac29-bc0257e7a910</td>\n",
       "      <td>hTi8zH2tTJuPDp1seKeVYg</td>\n",
       "      <td>6.0</td>\n",
       "      <td>wXvXBjKp</td>\n",
       "    </tr>\n",
       "    <tr>\n",
       "      <th>75747</th>\n",
       "      <td>1609544905003</td>\n",
       "      <td>f000d17c-85ac-401f-891c-70bce61e8b5d</td>\n",
       "      <td>CQJLujBRSgaATx8JqZ3GvA</td>\n",
       "      <td>21.0</td>\n",
       "      <td>wXLfZtO6</td>\n",
       "    </tr>\n",
       "    <tr>\n",
       "      <th>75748</th>\n",
       "      <td>1609545284069</td>\n",
       "      <td>8ed483b6-649f-4ba9-9be7-e969c338bf56</td>\n",
       "      <td>b6uxWYERR7q1tXNjZA0dYQ</td>\n",
       "      <td>201.0</td>\n",
       "      <td>wXvDYi_h</td>\n",
       "    </tr>\n",
       "    <tr>\n",
       "      <th>75749</th>\n",
       "      <td>1609546171137</td>\n",
       "      <td>89c6a239-0023-4cde-8c4b-875cd0a025ce</td>\n",
       "      <td>yU6jZWxbSV-CgK5fF3G4eg</td>\n",
       "      <td>81.0</td>\n",
       "      <td>wXsjveZa</td>\n",
       "    </tr>\n",
       "  </tbody>\n",
       "</table>\n",
       "<p>75750 rows × 5 columns</p>\n",
       "</div>"
      ],
      "text/plain": [
       "          created_at                       source_event_id  \\\n",
       "0      1609545002418  be60130c-a660-4e23-954d-9bcf08377b24   \n",
       "1      1609545878642  7cb93ab5-e0ec-4d5a-9245-b2e3ad87b9c3   \n",
       "2      1609544879533  461e9683-e679-4448-bee3-d0b07353ab5d   \n",
       "3      1609544027300  969745e6-25e5-46af-8c1b-f506429944f6   \n",
       "4      1609547063017  5c422ed2-c7d5-4653-ac9c-1e2e890b97b5   \n",
       "...              ...                                   ...   \n",
       "75745  1609545199893  5d4fd83c-493e-4f69-9949-7346a920631b   \n",
       "75746  1609546991162  7719cd95-5fab-4431-ac29-bc0257e7a910   \n",
       "75747  1609544905003  f000d17c-85ac-401f-891c-70bce61e8b5d   \n",
       "75748  1609545284069  8ed483b6-649f-4ba9-9be7-e969c338bf56   \n",
       "75749  1609546171137  89c6a239-0023-4cde-8c4b-875cd0a025ce   \n",
       "\n",
       "                    device_id  post_index_in_post_list post_token  \n",
       "0      VVaoaGZQQcysup51b96xFQ                      3.0   wXq3yGW3  \n",
       "1      kMPcgmnnRzGoVRomPVRz9A                    267.0   wXrn2a0w  \n",
       "2      bjiXJIm6RaWaw_7ASh5Gdw                      6.0   wXv7xXEj  \n",
       "3      odyBXuz3Qn2-gmdEX-_ZOg                     17.0   wXnnSi0l  \n",
       "4      _lgH2bn7Ty-6DuxrClGKUw                    174.0   wXqv95zt  \n",
       "...                       ...                      ...        ...  \n",
       "75745  rFmwmYDmRkeV8NMdlBjMfQ                     94.0   wXvnlWej  \n",
       "75746  hTi8zH2tTJuPDp1seKeVYg                      6.0   wXvXBjKp  \n",
       "75747  CQJLujBRSgaATx8JqZ3GvA                     21.0   wXLfZtO6  \n",
       "75748  b6uxWYERR7q1tXNjZA0dYQ                    201.0   wXvDYi_h  \n",
       "75749  yU6jZWxbSV-CgK5fF3G4eg                     81.0   wXsjveZa  \n",
       "\n",
       "[75750 rows x 5 columns]"
      ]
     },
     "execution_count": 23,
     "metadata": {},
     "output_type": "execute_result"
    }
   ],
   "source": [
    "clicked_df"
   ]
  },
  {
   "cell_type": "code",
   "execution_count": 24,
   "metadata": {},
   "outputs": [],
   "source": [
    "loaded_df['tokens'] = loaded_df['tokens'].apply(lambda x:x[1:-1].replace(' ','').split(','))"
   ]
  },
  {
   "cell_type": "code",
   "execution_count": 25,
   "metadata": {},
   "outputs": [],
   "source": [
    "new_loaded = {'created_at':[],'source_event_id':[],'device_id':[],'post_page_offset':[],'token':[],'post_index':[],'token':[]}"
   ]
  },
  {
   "cell_type": "code",
   "execution_count": 26,
   "metadata": {},
   "outputs": [],
   "source": [
    "POSTS_PER_PAGE = 24\n",
    "\n",
    "for index,row in loaded_df.iterrows():\n",
    "    for i,token in enumerate(row['tokens']):\n",
    "        if i > 24:\n",
    "            print('error')\n",
    "        new_loaded['token'].append(token)\n",
    "        new_loaded['created_at'].append(row['created_at'])\n",
    "        new_loaded['source_event_id'].append(row['source_event_id'])\n",
    "        new_loaded['device_id'].append(row['device_id'])\n",
    "        new_loaded['post_page_offset'].append(row['post_page_offset'])\n",
    "        new_loaded['post_index'].append(row['post_page_offset'] * POSTS_PER_PAGE + i)"
   ]
  },
  {
   "cell_type": "markdown",
   "metadata": {},
   "source": [
    "در این بین چک هم کردیم که تعداد توکنهای یک صفحه بیشتر از ۲۴ تا نباشد. به علاوه فقط صفحه ی اخر است که میتواند کمتر از ۲۴ تا توکن داشته باشد. چون یک کوئری میتواند در زمان های مختلف زده شود و برای جداسازی هر کوئری خاص از بقیه باید کلاسترینگ کنیم این مسئله را چک نمیکنیم. "
   ]
  },
  {
   "cell_type": "code",
   "execution_count": 27,
   "metadata": {},
   "outputs": [],
   "source": [
    "# in new_loaded_df each row is a post that has been loaded\n",
    "new_loaded_df = pd.DataFrame(new_loaded)"
   ]
  },
  {
   "cell_type": "code",
   "execution_count": 28,
   "metadata": {},
   "outputs": [
    {
     "data": {
      "text/html": [
       "<div>\n",
       "<style scoped>\n",
       "    .dataframe tbody tr th:only-of-type {\n",
       "        vertical-align: middle;\n",
       "    }\n",
       "\n",
       "    .dataframe tbody tr th {\n",
       "        vertical-align: top;\n",
       "    }\n",
       "\n",
       "    .dataframe thead th {\n",
       "        text-align: right;\n",
       "    }\n",
       "</style>\n",
       "<table border=\"1\" class=\"dataframe\">\n",
       "  <thead>\n",
       "    <tr style=\"text-align: right;\">\n",
       "      <th></th>\n",
       "      <th>created_at</th>\n",
       "      <th>source_event_id</th>\n",
       "      <th>device_id</th>\n",
       "      <th>post_page_offset</th>\n",
       "      <th>token</th>\n",
       "      <th>post_index</th>\n",
       "    </tr>\n",
       "  </thead>\n",
       "  <tbody>\n",
       "    <tr>\n",
       "      <th>0</th>\n",
       "      <td>1609545001150</td>\n",
       "      <td>1575558c-a702-46ef-8e18-bc5cef761473</td>\n",
       "      <td>Ed9EADRZRXCHcrcEP_Hnkg</td>\n",
       "      <td>26.0</td>\n",
       "      <td>wXvP3enu</td>\n",
       "      <td>624.0</td>\n",
       "    </tr>\n",
       "    <tr>\n",
       "      <th>1</th>\n",
       "      <td>1609545001150</td>\n",
       "      <td>1575558c-a702-46ef-8e18-bc5cef761473</td>\n",
       "      <td>Ed9EADRZRXCHcrcEP_Hnkg</td>\n",
       "      <td>26.0</td>\n",
       "      <td>wXvHXzUS</td>\n",
       "      <td>625.0</td>\n",
       "    </tr>\n",
       "    <tr>\n",
       "      <th>2</th>\n",
       "      <td>1609545001150</td>\n",
       "      <td>1575558c-a702-46ef-8e18-bc5cef761473</td>\n",
       "      <td>Ed9EADRZRXCHcrcEP_Hnkg</td>\n",
       "      <td>26.0</td>\n",
       "      <td>wXvPHXVe</td>\n",
       "      <td>626.0</td>\n",
       "    </tr>\n",
       "    <tr>\n",
       "      <th>3</th>\n",
       "      <td>1609545001150</td>\n",
       "      <td>1575558c-a702-46ef-8e18-bc5cef761473</td>\n",
       "      <td>Ed9EADRZRXCHcrcEP_Hnkg</td>\n",
       "      <td>26.0</td>\n",
       "      <td>wXvPHRs3</td>\n",
       "      <td>627.0</td>\n",
       "    </tr>\n",
       "    <tr>\n",
       "      <th>4</th>\n",
       "      <td>1609545001150</td>\n",
       "      <td>1575558c-a702-46ef-8e18-bc5cef761473</td>\n",
       "      <td>Ed9EADRZRXCHcrcEP_Hnkg</td>\n",
       "      <td>26.0</td>\n",
       "      <td>wXvH3kX4</td>\n",
       "      <td>628.0</td>\n",
       "    </tr>\n",
       "    <tr>\n",
       "      <th>...</th>\n",
       "      <td>...</td>\n",
       "      <td>...</td>\n",
       "      <td>...</td>\n",
       "      <td>...</td>\n",
       "      <td>...</td>\n",
       "      <td>...</td>\n",
       "    </tr>\n",
       "    <tr>\n",
       "      <th>803149</th>\n",
       "      <td>1609547165297</td>\n",
       "      <td>5ea5de7d-1f85-4251-b3c1-6e71d4730fd4</td>\n",
       "      <td>Xe03AM5rQgu6jpGPZ4mGEw</td>\n",
       "      <td>2.0</td>\n",
       "      <td>wXm_wXuD</td>\n",
       "      <td>67.0</td>\n",
       "    </tr>\n",
       "    <tr>\n",
       "      <th>803150</th>\n",
       "      <td>1609547165297</td>\n",
       "      <td>5ea5de7d-1f85-4251-b3c1-6e71d4730fd4</td>\n",
       "      <td>Xe03AM5rQgu6jpGPZ4mGEw</td>\n",
       "      <td>2.0</td>\n",
       "      <td>wXlPOUmy</td>\n",
       "      <td>68.0</td>\n",
       "    </tr>\n",
       "    <tr>\n",
       "      <th>803151</th>\n",
       "      <td>1609547165297</td>\n",
       "      <td>5ea5de7d-1f85-4251-b3c1-6e71d4730fd4</td>\n",
       "      <td>Xe03AM5rQgu6jpGPZ4mGEw</td>\n",
       "      <td>2.0</td>\n",
       "      <td>wXcfHkmx</td>\n",
       "      <td>69.0</td>\n",
       "    </tr>\n",
       "    <tr>\n",
       "      <th>803152</th>\n",
       "      <td>1609547165297</td>\n",
       "      <td>5ea5de7d-1f85-4251-b3c1-6e71d4730fd4</td>\n",
       "      <td>Xe03AM5rQgu6jpGPZ4mGEw</td>\n",
       "      <td>2.0</td>\n",
       "      <td>wXQ_62cx</td>\n",
       "      <td>70.0</td>\n",
       "    </tr>\n",
       "    <tr>\n",
       "      <th>803153</th>\n",
       "      <td>1609547165297</td>\n",
       "      <td>5ea5de7d-1f85-4251-b3c1-6e71d4730fd4</td>\n",
       "      <td>Xe03AM5rQgu6jpGPZ4mGEw</td>\n",
       "      <td>2.0</td>\n",
       "      <td>wXUD3qyx</td>\n",
       "      <td>71.0</td>\n",
       "    </tr>\n",
       "  </tbody>\n",
       "</table>\n",
       "<p>803154 rows × 6 columns</p>\n",
       "</div>"
      ],
      "text/plain": [
       "           created_at                       source_event_id  \\\n",
       "0       1609545001150  1575558c-a702-46ef-8e18-bc5cef761473   \n",
       "1       1609545001150  1575558c-a702-46ef-8e18-bc5cef761473   \n",
       "2       1609545001150  1575558c-a702-46ef-8e18-bc5cef761473   \n",
       "3       1609545001150  1575558c-a702-46ef-8e18-bc5cef761473   \n",
       "4       1609545001150  1575558c-a702-46ef-8e18-bc5cef761473   \n",
       "...               ...                                   ...   \n",
       "803149  1609547165297  5ea5de7d-1f85-4251-b3c1-6e71d4730fd4   \n",
       "803150  1609547165297  5ea5de7d-1f85-4251-b3c1-6e71d4730fd4   \n",
       "803151  1609547165297  5ea5de7d-1f85-4251-b3c1-6e71d4730fd4   \n",
       "803152  1609547165297  5ea5de7d-1f85-4251-b3c1-6e71d4730fd4   \n",
       "803153  1609547165297  5ea5de7d-1f85-4251-b3c1-6e71d4730fd4   \n",
       "\n",
       "                     device_id  post_page_offset     token  post_index  \n",
       "0       Ed9EADRZRXCHcrcEP_Hnkg              26.0  wXvP3enu       624.0  \n",
       "1       Ed9EADRZRXCHcrcEP_Hnkg              26.0  wXvHXzUS       625.0  \n",
       "2       Ed9EADRZRXCHcrcEP_Hnkg              26.0  wXvPHXVe       626.0  \n",
       "3       Ed9EADRZRXCHcrcEP_Hnkg              26.0  wXvPHRs3       627.0  \n",
       "4       Ed9EADRZRXCHcrcEP_Hnkg              26.0  wXvH3kX4       628.0  \n",
       "...                        ...               ...       ...         ...  \n",
       "803149  Xe03AM5rQgu6jpGPZ4mGEw               2.0  wXm_wXuD        67.0  \n",
       "803150  Xe03AM5rQgu6jpGPZ4mGEw               2.0  wXlPOUmy        68.0  \n",
       "803151  Xe03AM5rQgu6jpGPZ4mGEw               2.0  wXcfHkmx        69.0  \n",
       "803152  Xe03AM5rQgu6jpGPZ4mGEw               2.0  wXQ_62cx        70.0  \n",
       "803153  Xe03AM5rQgu6jpGPZ4mGEw               2.0  wXUD3qyx        71.0  \n",
       "\n",
       "[803154 rows x 6 columns]"
      ]
     },
     "execution_count": 28,
     "metadata": {},
     "output_type": "execute_result"
    }
   ],
   "source": [
    "new_loaded_df"
   ]
  },
  {
   "cell_type": "markdown",
   "metadata": {},
   "source": [
    "### Error 4: some pages have not been loaded consequently\n"
   ]
  },
  {
   "cell_type": "code",
   "execution_count": 29,
   "metadata": {},
   "outputs": [],
   "source": [
    "error4_df = loaded_df.groupby(['source_event_id']).post_page_offset.agg(['nunique', 'max'])"
   ]
  },
  {
   "cell_type": "code",
   "execution_count": 30,
   "metadata": {},
   "outputs": [
    {
     "data": {
      "text/html": [
       "<div>\n",
       "<style scoped>\n",
       "    .dataframe tbody tr th:only-of-type {\n",
       "        vertical-align: middle;\n",
       "    }\n",
       "\n",
       "    .dataframe tbody tr th {\n",
       "        vertical-align: top;\n",
       "    }\n",
       "\n",
       "    .dataframe thead th {\n",
       "        text-align: right;\n",
       "    }\n",
       "</style>\n",
       "<table border=\"1\" class=\"dataframe\">\n",
       "  <thead>\n",
       "    <tr style=\"text-align: right;\">\n",
       "      <th></th>\n",
       "      <th>nunique</th>\n",
       "      <th>max</th>\n",
       "    </tr>\n",
       "    <tr>\n",
       "      <th>source_event_id</th>\n",
       "      <th></th>\n",
       "      <th></th>\n",
       "    </tr>\n",
       "  </thead>\n",
       "  <tbody>\n",
       "    <tr>\n",
       "      <th>00049ef3-c027-4f55-869c-46711f0ea0ad</th>\n",
       "      <td>1</td>\n",
       "      <td>0.0</td>\n",
       "    </tr>\n",
       "    <tr>\n",
       "      <th>00069dda-4175-4bb0-8ef0-c0e1031d4da6</th>\n",
       "      <td>1</td>\n",
       "      <td>0.0</td>\n",
       "    </tr>\n",
       "    <tr>\n",
       "      <th>0017c208-e016-4231-a022-598ba020f1ff</th>\n",
       "      <td>4</td>\n",
       "      <td>3.0</td>\n",
       "    </tr>\n",
       "    <tr>\n",
       "      <th>002222cf-9e4b-4432-9e36-ad500a753850</th>\n",
       "      <td>1</td>\n",
       "      <td>0.0</td>\n",
       "    </tr>\n",
       "    <tr>\n",
       "      <th>004dc60d-2288-453f-bcda-1ad5e8d8211f</th>\n",
       "      <td>2</td>\n",
       "      <td>1.0</td>\n",
       "    </tr>\n",
       "    <tr>\n",
       "      <th>...</th>\n",
       "      <td>...</td>\n",
       "      <td>...</td>\n",
       "    </tr>\n",
       "    <tr>\n",
       "      <th>ffda8068-9c22-46f0-971e-6b2b19c764ea</th>\n",
       "      <td>9</td>\n",
       "      <td>8.0</td>\n",
       "    </tr>\n",
       "    <tr>\n",
       "      <th>ffeaa17f-ee79-4f42-be58-afd60a5aef37</th>\n",
       "      <td>2</td>\n",
       "      <td>1.0</td>\n",
       "    </tr>\n",
       "    <tr>\n",
       "      <th>ffec4e11-c0a1-4fa4-8613-0979d6f46918</th>\n",
       "      <td>22</td>\n",
       "      <td>21.0</td>\n",
       "    </tr>\n",
       "    <tr>\n",
       "      <th>ffef6048-9db0-4244-9750-3b530552f0ec</th>\n",
       "      <td>35</td>\n",
       "      <td>34.0</td>\n",
       "    </tr>\n",
       "    <tr>\n",
       "      <th>fffc83a5-3f35-4cfe-bb4d-e1b9bf709860</th>\n",
       "      <td>1</td>\n",
       "      <td>0.0</td>\n",
       "    </tr>\n",
       "  </tbody>\n",
       "</table>\n",
       "<p>9381 rows × 2 columns</p>\n",
       "</div>"
      ],
      "text/plain": [
       "                                      nunique   max\n",
       "source_event_id                                    \n",
       "00049ef3-c027-4f55-869c-46711f0ea0ad        1   0.0\n",
       "00069dda-4175-4bb0-8ef0-c0e1031d4da6        1   0.0\n",
       "0017c208-e016-4231-a022-598ba020f1ff        4   3.0\n",
       "002222cf-9e4b-4432-9e36-ad500a753850        1   0.0\n",
       "004dc60d-2288-453f-bcda-1ad5e8d8211f        2   1.0\n",
       "...                                       ...   ...\n",
       "ffda8068-9c22-46f0-971e-6b2b19c764ea        9   8.0\n",
       "ffeaa17f-ee79-4f42-be58-afd60a5aef37        2   1.0\n",
       "ffec4e11-c0a1-4fa4-8613-0979d6f46918       22  21.0\n",
       "ffef6048-9db0-4244-9750-3b530552f0ec       35  34.0\n",
       "fffc83a5-3f35-4cfe-bb4d-e1b9bf709860        1   0.0\n",
       "\n",
       "[9381 rows x 2 columns]"
      ]
     },
     "execution_count": 30,
     "metadata": {},
     "output_type": "execute_result"
    }
   ],
   "source": [
    "error4_df"
   ]
  },
  {
   "cell_type": "code",
   "execution_count": 31,
   "metadata": {
    "scrolled": true
   },
   "outputs": [
    {
     "data": {
      "text/plain": [
       "True"
      ]
     },
     "execution_count": 31,
     "metadata": {},
     "output_type": "execute_result"
    }
   ],
   "source": [
    "(error4_df['nunique'] < error4_df['max'] + 1) .any()"
   ]
  },
  {
   "cell_type": "markdown",
   "metadata": {},
   "source": [
    " کوئری هایی وجود دارند که ایندکس بزرگترین صفحه ی لود شده به علاوه ی یک بزرگتر از تعداد صفحه های یونیک لود شده است پس یعنی پرش در لود شدن صفحه ها وجود داشته. از آنجا که در اپ دیوار فقط میتوانیم اسکرول کنیم و نمیتوانیم صفحه را عوض کنیم این مسئله قابل قبول نیست."
   ]
  },
  {
   "cell_type": "code",
   "execution_count": 32,
   "metadata": {
    "scrolled": true
   },
   "outputs": [
    {
     "data": {
      "text/html": [
       "<div>\n",
       "<style scoped>\n",
       "    .dataframe tbody tr th:only-of-type {\n",
       "        vertical-align: middle;\n",
       "    }\n",
       "\n",
       "    .dataframe tbody tr th {\n",
       "        vertical-align: top;\n",
       "    }\n",
       "\n",
       "    .dataframe thead th {\n",
       "        text-align: right;\n",
       "    }\n",
       "</style>\n",
       "<table border=\"1\" class=\"dataframe\">\n",
       "  <thead>\n",
       "    <tr style=\"text-align: right;\">\n",
       "      <th></th>\n",
       "      <th>nunique</th>\n",
       "      <th>max</th>\n",
       "    </tr>\n",
       "    <tr>\n",
       "      <th>source_event_id</th>\n",
       "      <th></th>\n",
       "      <th></th>\n",
       "    </tr>\n",
       "  </thead>\n",
       "  <tbody>\n",
       "    <tr>\n",
       "      <th>013a873e-0039-45fe-93e8-d6880077b6ce</th>\n",
       "      <td>9</td>\n",
       "      <td>31.0</td>\n",
       "    </tr>\n",
       "    <tr>\n",
       "      <th>014d9325-8d4e-48f1-8179-ca8f0a7ef1c8</th>\n",
       "      <td>1</td>\n",
       "      <td>1.0</td>\n",
       "    </tr>\n",
       "    <tr>\n",
       "      <th>015fd2a4-f16a-48dc-8c09-5cf936c9da2b</th>\n",
       "      <td>6</td>\n",
       "      <td>30.0</td>\n",
       "    </tr>\n",
       "    <tr>\n",
       "      <th>02b10b0a-b646-45f9-9463-47e089130f48</th>\n",
       "      <td>1</td>\n",
       "      <td>2.0</td>\n",
       "    </tr>\n",
       "    <tr>\n",
       "      <th>02c33d3c-f4c3-4c9d-8412-e5bbf54e3f7e</th>\n",
       "      <td>1</td>\n",
       "      <td>5.0</td>\n",
       "    </tr>\n",
       "    <tr>\n",
       "      <th>...</th>\n",
       "      <td>...</td>\n",
       "      <td>...</td>\n",
       "    </tr>\n",
       "    <tr>\n",
       "      <th>fe90de4a-78b0-4968-a0fe-4595d087a74a</th>\n",
       "      <td>3</td>\n",
       "      <td>8.0</td>\n",
       "    </tr>\n",
       "    <tr>\n",
       "      <th>febf63b0-721f-4211-b543-18f2acd80beb</th>\n",
       "      <td>5</td>\n",
       "      <td>8.0</td>\n",
       "    </tr>\n",
       "    <tr>\n",
       "      <th>ff25b3fc-6b80-41f0-ba99-4d3fe623f9ee</th>\n",
       "      <td>7</td>\n",
       "      <td>57.0</td>\n",
       "    </tr>\n",
       "    <tr>\n",
       "      <th>ff26c4fb-aefb-4414-a9e9-ff9b424f4542</th>\n",
       "      <td>3</td>\n",
       "      <td>5.0</td>\n",
       "    </tr>\n",
       "    <tr>\n",
       "      <th>ff57bf9e-c2b6-4ed2-8b3c-4e9647fa41cc</th>\n",
       "      <td>1</td>\n",
       "      <td>1.0</td>\n",
       "    </tr>\n",
       "  </tbody>\n",
       "</table>\n",
       "<p>632 rows × 2 columns</p>\n",
       "</div>"
      ],
      "text/plain": [
       "                                      nunique   max\n",
       "source_event_id                                    \n",
       "013a873e-0039-45fe-93e8-d6880077b6ce        9  31.0\n",
       "014d9325-8d4e-48f1-8179-ca8f0a7ef1c8        1   1.0\n",
       "015fd2a4-f16a-48dc-8c09-5cf936c9da2b        6  30.0\n",
       "02b10b0a-b646-45f9-9463-47e089130f48        1   2.0\n",
       "02c33d3c-f4c3-4c9d-8412-e5bbf54e3f7e        1   5.0\n",
       "...                                       ...   ...\n",
       "fe90de4a-78b0-4968-a0fe-4595d087a74a        3   8.0\n",
       "febf63b0-721f-4211-b543-18f2acd80beb        5   8.0\n",
       "ff25b3fc-6b80-41f0-ba99-4d3fe623f9ee        7  57.0\n",
       "ff26c4fb-aefb-4414-a9e9-ff9b424f4542        3   5.0\n",
       "ff57bf9e-c2b6-4ed2-8b3c-4e9647fa41cc        1   1.0\n",
       "\n",
       "[632 rows x 2 columns]"
      ]
     },
     "execution_count": 32,
     "metadata": {},
     "output_type": "execute_result"
    }
   ],
   "source": [
    "# showing some queries with this error\n",
    "error4_df[error4_df['nunique'] < error4_df['max'] + 1]"
   ]
  },
  {
   "cell_type": "markdown",
   "metadata": {},
   "source": [
    "## Question 2: dark query percent"
   ]
  },
  {
   "cell_type": "code",
   "execution_count": 33,
   "metadata": {},
   "outputs": [],
   "source": [
    "# calculating number of posts/tokens shown/loaded for each query\n",
    "event_result_counts = pd.DataFrame(new_loaded_df.groupby('source_event_id').count()['token'])\n",
    "event_result_counts.rename(columns={'token':'loaded_counter'}, inplace=True)"
   ]
  },
  {
   "cell_type": "code",
   "execution_count": 34,
   "metadata": {
    "scrolled": true
   },
   "outputs": [
    {
     "data": {
      "text/html": [
       "<div>\n",
       "<style scoped>\n",
       "    .dataframe tbody tr th:only-of-type {\n",
       "        vertical-align: middle;\n",
       "    }\n",
       "\n",
       "    .dataframe tbody tr th {\n",
       "        vertical-align: top;\n",
       "    }\n",
       "\n",
       "    .dataframe thead th {\n",
       "        text-align: right;\n",
       "    }\n",
       "</style>\n",
       "<table border=\"1\" class=\"dataframe\">\n",
       "  <thead>\n",
       "    <tr style=\"text-align: right;\">\n",
       "      <th></th>\n",
       "      <th>loaded_counter</th>\n",
       "    </tr>\n",
       "    <tr>\n",
       "      <th>source_event_id</th>\n",
       "      <th></th>\n",
       "    </tr>\n",
       "  </thead>\n",
       "  <tbody>\n",
       "    <tr>\n",
       "      <th>00049ef3-c027-4f55-869c-46711f0ea0ad</th>\n",
       "      <td>24</td>\n",
       "    </tr>\n",
       "    <tr>\n",
       "      <th>00069dda-4175-4bb0-8ef0-c0e1031d4da6</th>\n",
       "      <td>24</td>\n",
       "    </tr>\n",
       "    <tr>\n",
       "      <th>0017c208-e016-4231-a022-598ba020f1ff</th>\n",
       "      <td>168</td>\n",
       "    </tr>\n",
       "    <tr>\n",
       "      <th>002222cf-9e4b-4432-9e36-ad500a753850</th>\n",
       "      <td>24</td>\n",
       "    </tr>\n",
       "    <tr>\n",
       "      <th>004dc60d-2288-453f-bcda-1ad5e8d8211f</th>\n",
       "      <td>25</td>\n",
       "    </tr>\n",
       "    <tr>\n",
       "      <th>...</th>\n",
       "      <td>...</td>\n",
       "    </tr>\n",
       "    <tr>\n",
       "      <th>ffda8068-9c22-46f0-971e-6b2b19c764ea</th>\n",
       "      <td>216</td>\n",
       "    </tr>\n",
       "    <tr>\n",
       "      <th>ffeaa17f-ee79-4f42-be58-afd60a5aef37</th>\n",
       "      <td>48</td>\n",
       "    </tr>\n",
       "    <tr>\n",
       "      <th>ffec4e11-c0a1-4fa4-8613-0979d6f46918</th>\n",
       "      <td>528</td>\n",
       "    </tr>\n",
       "    <tr>\n",
       "      <th>ffef6048-9db0-4244-9750-3b530552f0ec</th>\n",
       "      <td>840</td>\n",
       "    </tr>\n",
       "    <tr>\n",
       "      <th>fffc83a5-3f35-4cfe-bb4d-e1b9bf709860</th>\n",
       "      <td>24</td>\n",
       "    </tr>\n",
       "  </tbody>\n",
       "</table>\n",
       "<p>9381 rows × 1 columns</p>\n",
       "</div>"
      ],
      "text/plain": [
       "                                      loaded_counter\n",
       "source_event_id                                     \n",
       "00049ef3-c027-4f55-869c-46711f0ea0ad              24\n",
       "00069dda-4175-4bb0-8ef0-c0e1031d4da6              24\n",
       "0017c208-e016-4231-a022-598ba020f1ff             168\n",
       "002222cf-9e4b-4432-9e36-ad500a753850              24\n",
       "004dc60d-2288-453f-bcda-1ad5e8d8211f              25\n",
       "...                                              ...\n",
       "ffda8068-9c22-46f0-971e-6b2b19c764ea             216\n",
       "ffeaa17f-ee79-4f42-be58-afd60a5aef37              48\n",
       "ffec4e11-c0a1-4fa4-8613-0979d6f46918             528\n",
       "ffef6048-9db0-4244-9750-3b530552f0ec             840\n",
       "fffc83a5-3f35-4cfe-bb4d-e1b9bf709860              24\n",
       "\n",
       "[9381 rows x 1 columns]"
      ]
     },
     "execution_count": 34,
     "metadata": {},
     "output_type": "execute_result"
    }
   ],
   "source": [
    "event_result_counts"
   ]
  },
  {
   "cell_type": "markdown",
   "metadata": {},
   "source": [
    "اما مگر نگفتیم که یک کوئری میتواند در مواقع مختلف زده شود؟ پس لزوما تعداد پست های لود شده ای که به دست آوردیم تعداد پست های لود شده ای که در یک کوئری توسط یک کاربر در زمان خاص زده شده نیست. بلکه تعداد تمام پست های لود شده توسط یک کوئری در طول روز است "
   ]
  },
  {
   "cell_type": "code",
   "execution_count": 35,
   "metadata": {},
   "outputs": [
    {
     "data": {
      "text/plain": [
       "143"
      ]
     },
     "execution_count": 35,
     "metadata": {},
     "output_type": "execute_result"
    }
   ],
   "source": [
    "check_df = new_loaded_df.groupby(\"source_event_id\").token.agg(['nunique', 'count'])\n",
    "check_df[check_df['nunique'] < check_df['count']].shape[0]"
   ]
  },
  {
   "cell_type": "code",
   "execution_count": 36,
   "metadata": {},
   "outputs": [
    {
     "data": {
      "text/plain": [
       "14296"
      ]
     },
     "execution_count": 36,
     "metadata": {},
     "output_type": "execute_result"
    }
   ],
   "source": [
    "df['source_event_id'].nunique()"
   ]
  },
  {
   "cell_type": "markdown",
   "metadata": {},
   "source": [
    "با توجه به دو عدد بالا متوجه میشویم کوئری های کمی هستند که پست تکراری نمایش داده اند. (البته عدد ۱۴۲۹۶ با توجه به خطایی که کمی بعد به آن اشاره میشود درست نیست. عدد واقعی از این کمتر است. )این تکراری بودن یا به این خاطر است که در یک سرچ چند بار یک آگهی ظاهر میشود. یا به این خاطر است که یک کوئری در طول روز چند بار لود میشود و آگهی ای را چند بار نمایش میدهد.\n",
    "اینکه این تعداد کم است بیانگر این نیست که حتما کوئری های کمی در طول روز چند بار لود میشوند. چون یک کوئری میتواند چند بار لود شود و نتایج کاملا مختلف بیاورد ولی احتمالش در یک روز کم است و از طرفی تعداد کوئری هایی که توکن تکراری نمایش داده اند هم کم است. پس با اغماز روی همان نتیجه ی قبلی محاسبه را ادامه میدهیم.  "
   ]
  },
  {
   "cell_type": "code",
   "execution_count": 37,
   "metadata": {},
   "outputs": [],
   "source": [
    "total_load_events = event_result_counts.shape[0]\n",
    "less_than_10_results = event_result_counts[event_result_counts['loaded_counter'] < 10].shape[0]"
   ]
  },
  {
   "cell_type": "code",
   "execution_count": 38,
   "metadata": {},
   "outputs": [
    {
     "data": {
      "text/plain": [
       "12.130902888817824"
      ]
     },
     "execution_count": 38,
     "metadata": {},
     "output_type": "execute_result"
    }
   ],
   "source": [
    "dark_query_percent = less_than_10_results / total_load_events * 100\n",
    "dark_query_percent"
   ]
  },
  {
   "cell_type": "markdown",
   "metadata": {},
   "source": [
    "## Question 2:  query bounce rate"
   ]
  },
  {
   "cell_type": "code",
   "execution_count": 39,
   "metadata": {},
   "outputs": [
    {
     "data": {
      "text/plain": [
       "10820"
      ]
     },
     "execution_count": 39,
     "metadata": {},
     "output_type": "execute_result"
    }
   ],
   "source": [
    "clicked_source_events = clicked_df['source_event_id'].nunique()\n",
    "clicked_source_events"
   ]
  },
  {
   "cell_type": "code",
   "execution_count": 40,
   "metadata": {},
   "outputs": [
    {
     "data": {
      "text/plain": [
       "9381"
      ]
     },
     "execution_count": 40,
     "metadata": {},
     "output_type": "execute_result"
    }
   ],
   "source": [
    "total_source_events  = loaded_df['source_event_id'].nunique()\n",
    "total_source_events"
   ]
  },
  {
   "cell_type": "markdown",
   "metadata": {},
   "source": [
    "### Error 5: there are clicked queries without load"
   ]
  },
  {
   "cell_type": "markdown",
   "metadata": {},
   "source": [
    "مشاهده میشود که تعداد کوئری هایی که نتیجه ای داشته اند که رویش کلیک شده از تعداد کوئری هایی که به طور کلی وجود دارند بیشتر است. پس اروری در دیتا وجود دارد. "
   ]
  },
  {
   "cell_type": "code",
   "execution_count": 41,
   "metadata": {},
   "outputs": [
    {
     "data": {
      "text/html": [
       "<div>\n",
       "<style scoped>\n",
       "    .dataframe tbody tr th:only-of-type {\n",
       "        vertical-align: middle;\n",
       "    }\n",
       "\n",
       "    .dataframe tbody tr th {\n",
       "        vertical-align: top;\n",
       "    }\n",
       "\n",
       "    .dataframe thead th {\n",
       "        text-align: right;\n",
       "    }\n",
       "</style>\n",
       "<table border=\"1\" class=\"dataframe\">\n",
       "  <thead>\n",
       "    <tr style=\"text-align: right;\">\n",
       "      <th></th>\n",
       "      <th>click</th>\n",
       "    </tr>\n",
       "    <tr>\n",
       "      <th>source_event_id</th>\n",
       "      <th></th>\n",
       "    </tr>\n",
       "  </thead>\n",
       "  <tbody>\n",
       "    <tr>\n",
       "      <th>00142c59-745c-4004-a955-698ddcf1faa6</th>\n",
       "      <td>4</td>\n",
       "    </tr>\n",
       "    <tr>\n",
       "      <th>0016f59f-9fb3-4ab5-ae78-9783314b81fc</th>\n",
       "      <td>10</td>\n",
       "    </tr>\n",
       "    <tr>\n",
       "      <th>0017b9ef-5903-40f9-a219-85728eb78436</th>\n",
       "      <td>5</td>\n",
       "    </tr>\n",
       "    <tr>\n",
       "      <th>0017c208-e016-4231-a022-598ba020f1ff</th>\n",
       "      <td>4</td>\n",
       "    </tr>\n",
       "    <tr>\n",
       "      <th>00240c5c-9d06-4fcd-93f5-93b842fdab63</th>\n",
       "      <td>1</td>\n",
       "    </tr>\n",
       "    <tr>\n",
       "      <th>...</th>\n",
       "      <td>...</td>\n",
       "    </tr>\n",
       "    <tr>\n",
       "      <th>ffdd48fc-4c05-4c75-bf8c-5cd42729d2b8</th>\n",
       "      <td>5</td>\n",
       "    </tr>\n",
       "    <tr>\n",
       "      <th>ffe3a1f8-c363-4fbb-af5f-0d244b21aea4</th>\n",
       "      <td>7</td>\n",
       "    </tr>\n",
       "    <tr>\n",
       "      <th>ffec4e11-c0a1-4fa4-8613-0979d6f46918</th>\n",
       "      <td>5</td>\n",
       "    </tr>\n",
       "    <tr>\n",
       "      <th>ffef31ea-cb4e-4d00-98ca-118df330cdca</th>\n",
       "      <td>2</td>\n",
       "    </tr>\n",
       "    <tr>\n",
       "      <th>ffef6048-9db0-4244-9750-3b530552f0ec</th>\n",
       "      <td>43</td>\n",
       "    </tr>\n",
       "  </tbody>\n",
       "</table>\n",
       "<p>10820 rows × 1 columns</p>\n",
       "</div>"
      ],
      "text/plain": [
       "                                      click\n",
       "source_event_id                            \n",
       "00142c59-745c-4004-a955-698ddcf1faa6      4\n",
       "0016f59f-9fb3-4ab5-ae78-9783314b81fc     10\n",
       "0017b9ef-5903-40f9-a219-85728eb78436      5\n",
       "0017c208-e016-4231-a022-598ba020f1ff      4\n",
       "00240c5c-9d06-4fcd-93f5-93b842fdab63      1\n",
       "...                                     ...\n",
       "ffdd48fc-4c05-4c75-bf8c-5cd42729d2b8      5\n",
       "ffe3a1f8-c363-4fbb-af5f-0d244b21aea4      7\n",
       "ffec4e11-c0a1-4fa4-8613-0979d6f46918      5\n",
       "ffef31ea-cb4e-4d00-98ca-118df330cdca      2\n",
       "ffef6048-9db0-4244-9750-3b530552f0ec     43\n",
       "\n",
       "[10820 rows x 1 columns]"
      ]
     },
     "execution_count": 41,
     "metadata": {},
     "output_type": "execute_result"
    }
   ],
   "source": [
    "click_query = pd.DataFrame(df[df['action'] =='click_post'].groupby('source_event_id').count()['created_at']).rename(columns={'created_at':'click'})\n",
    "click_query"
   ]
  },
  {
   "cell_type": "code",
   "execution_count": 42,
   "metadata": {},
   "outputs": [
    {
     "data": {
      "text/html": [
       "<div>\n",
       "<style scoped>\n",
       "    .dataframe tbody tr th:only-of-type {\n",
       "        vertical-align: middle;\n",
       "    }\n",
       "\n",
       "    .dataframe tbody tr th {\n",
       "        vertical-align: top;\n",
       "    }\n",
       "\n",
       "    .dataframe thead th {\n",
       "        text-align: right;\n",
       "    }\n",
       "</style>\n",
       "<table border=\"1\" class=\"dataframe\">\n",
       "  <thead>\n",
       "    <tr style=\"text-align: right;\">\n",
       "      <th></th>\n",
       "      <th>load</th>\n",
       "    </tr>\n",
       "    <tr>\n",
       "      <th>source_event_id</th>\n",
       "      <th></th>\n",
       "    </tr>\n",
       "  </thead>\n",
       "  <tbody>\n",
       "    <tr>\n",
       "      <th>00049ef3-c027-4f55-869c-46711f0ea0ad</th>\n",
       "      <td>1</td>\n",
       "    </tr>\n",
       "    <tr>\n",
       "      <th>00069dda-4175-4bb0-8ef0-c0e1031d4da6</th>\n",
       "      <td>1</td>\n",
       "    </tr>\n",
       "    <tr>\n",
       "      <th>0017c208-e016-4231-a022-598ba020f1ff</th>\n",
       "      <td>7</td>\n",
       "    </tr>\n",
       "    <tr>\n",
       "      <th>002222cf-9e4b-4432-9e36-ad500a753850</th>\n",
       "      <td>1</td>\n",
       "    </tr>\n",
       "    <tr>\n",
       "      <th>004dc60d-2288-453f-bcda-1ad5e8d8211f</th>\n",
       "      <td>2</td>\n",
       "    </tr>\n",
       "    <tr>\n",
       "      <th>...</th>\n",
       "      <td>...</td>\n",
       "    </tr>\n",
       "    <tr>\n",
       "      <th>ffda8068-9c22-46f0-971e-6b2b19c764ea</th>\n",
       "      <td>9</td>\n",
       "    </tr>\n",
       "    <tr>\n",
       "      <th>ffeaa17f-ee79-4f42-be58-afd60a5aef37</th>\n",
       "      <td>2</td>\n",
       "    </tr>\n",
       "    <tr>\n",
       "      <th>ffec4e11-c0a1-4fa4-8613-0979d6f46918</th>\n",
       "      <td>22</td>\n",
       "    </tr>\n",
       "    <tr>\n",
       "      <th>ffef6048-9db0-4244-9750-3b530552f0ec</th>\n",
       "      <td>35</td>\n",
       "    </tr>\n",
       "    <tr>\n",
       "      <th>fffc83a5-3f35-4cfe-bb4d-e1b9bf709860</th>\n",
       "      <td>1</td>\n",
       "    </tr>\n",
       "  </tbody>\n",
       "</table>\n",
       "<p>9381 rows × 1 columns</p>\n",
       "</div>"
      ],
      "text/plain": [
       "                                      load\n",
       "source_event_id                           \n",
       "00049ef3-c027-4f55-869c-46711f0ea0ad     1\n",
       "00069dda-4175-4bb0-8ef0-c0e1031d4da6     1\n",
       "0017c208-e016-4231-a022-598ba020f1ff     7\n",
       "002222cf-9e4b-4432-9e36-ad500a753850     1\n",
       "004dc60d-2288-453f-bcda-1ad5e8d8211f     2\n",
       "...                                    ...\n",
       "ffda8068-9c22-46f0-971e-6b2b19c764ea     9\n",
       "ffeaa17f-ee79-4f42-be58-afd60a5aef37     2\n",
       "ffec4e11-c0a1-4fa4-8613-0979d6f46918    22\n",
       "ffef6048-9db0-4244-9750-3b530552f0ec    35\n",
       "fffc83a5-3f35-4cfe-bb4d-e1b9bf709860     1\n",
       "\n",
       "[9381 rows x 1 columns]"
      ]
     },
     "execution_count": 42,
     "metadata": {},
     "output_type": "execute_result"
    }
   ],
   "source": [
    "load_query = pd.DataFrame(df[df['action'] =='load_post_page'].groupby('source_event_id').count()['created_at']).rename(columns={'created_at':'load'})\n",
    "load_query"
   ]
  },
  {
   "cell_type": "code",
   "execution_count": 43,
   "metadata": {},
   "outputs": [
    {
     "data": {
      "text/html": [
       "<div>\n",
       "<style scoped>\n",
       "    .dataframe tbody tr th:only-of-type {\n",
       "        vertical-align: middle;\n",
       "    }\n",
       "\n",
       "    .dataframe tbody tr th {\n",
       "        vertical-align: top;\n",
       "    }\n",
       "\n",
       "    .dataframe thead th {\n",
       "        text-align: right;\n",
       "    }\n",
       "</style>\n",
       "<table border=\"1\" class=\"dataframe\">\n",
       "  <thead>\n",
       "    <tr style=\"text-align: right;\">\n",
       "      <th></th>\n",
       "      <th>click</th>\n",
       "      <th>load</th>\n",
       "    </tr>\n",
       "    <tr>\n",
       "      <th>source_event_id</th>\n",
       "      <th></th>\n",
       "      <th></th>\n",
       "    </tr>\n",
       "  </thead>\n",
       "  <tbody>\n",
       "    <tr>\n",
       "      <th>00049ef3-c027-4f55-869c-46711f0ea0ad</th>\n",
       "      <td>NaN</td>\n",
       "      <td>1.0</td>\n",
       "    </tr>\n",
       "    <tr>\n",
       "      <th>00069dda-4175-4bb0-8ef0-c0e1031d4da6</th>\n",
       "      <td>NaN</td>\n",
       "      <td>1.0</td>\n",
       "    </tr>\n",
       "    <tr>\n",
       "      <th>00142c59-745c-4004-a955-698ddcf1faa6</th>\n",
       "      <td>4.0</td>\n",
       "      <td>NaN</td>\n",
       "    </tr>\n",
       "    <tr>\n",
       "      <th>0016f59f-9fb3-4ab5-ae78-9783314b81fc</th>\n",
       "      <td>10.0</td>\n",
       "      <td>NaN</td>\n",
       "    </tr>\n",
       "    <tr>\n",
       "      <th>0017b9ef-5903-40f9-a219-85728eb78436</th>\n",
       "      <td>5.0</td>\n",
       "      <td>NaN</td>\n",
       "    </tr>\n",
       "    <tr>\n",
       "      <th>...</th>\n",
       "      <td>...</td>\n",
       "      <td>...</td>\n",
       "    </tr>\n",
       "    <tr>\n",
       "      <th>ffeaa17f-ee79-4f42-be58-afd60a5aef37</th>\n",
       "      <td>NaN</td>\n",
       "      <td>2.0</td>\n",
       "    </tr>\n",
       "    <tr>\n",
       "      <th>ffec4e11-c0a1-4fa4-8613-0979d6f46918</th>\n",
       "      <td>5.0</td>\n",
       "      <td>22.0</td>\n",
       "    </tr>\n",
       "    <tr>\n",
       "      <th>ffef31ea-cb4e-4d00-98ca-118df330cdca</th>\n",
       "      <td>2.0</td>\n",
       "      <td>NaN</td>\n",
       "    </tr>\n",
       "    <tr>\n",
       "      <th>ffef6048-9db0-4244-9750-3b530552f0ec</th>\n",
       "      <td>43.0</td>\n",
       "      <td>35.0</td>\n",
       "    </tr>\n",
       "    <tr>\n",
       "      <th>fffc83a5-3f35-4cfe-bb4d-e1b9bf709860</th>\n",
       "      <td>NaN</td>\n",
       "      <td>1.0</td>\n",
       "    </tr>\n",
       "  </tbody>\n",
       "</table>\n",
       "<p>14296 rows × 2 columns</p>\n",
       "</div>"
      ],
      "text/plain": [
       "                                      click  load\n",
       "source_event_id                                  \n",
       "00049ef3-c027-4f55-869c-46711f0ea0ad    NaN   1.0\n",
       "00069dda-4175-4bb0-8ef0-c0e1031d4da6    NaN   1.0\n",
       "00142c59-745c-4004-a955-698ddcf1faa6    4.0   NaN\n",
       "0016f59f-9fb3-4ab5-ae78-9783314b81fc   10.0   NaN\n",
       "0017b9ef-5903-40f9-a219-85728eb78436    5.0   NaN\n",
       "...                                     ...   ...\n",
       "ffeaa17f-ee79-4f42-be58-afd60a5aef37    NaN   2.0\n",
       "ffec4e11-c0a1-4fa4-8613-0979d6f46918    5.0  22.0\n",
       "ffef31ea-cb4e-4d00-98ca-118df330cdca    2.0   NaN\n",
       "ffef6048-9db0-4244-9750-3b530552f0ec   43.0  35.0\n",
       "fffc83a5-3f35-4cfe-bb4d-e1b9bf709860    NaN   1.0\n",
       "\n",
       "[14296 rows x 2 columns]"
      ]
     },
     "execution_count": 43,
     "metadata": {},
     "output_type": "execute_result"
    }
   ],
   "source": [
    "load_click_query = click_query.join(load_query,how='outer')\n",
    "load_click_query"
   ]
  },
  {
   "cell_type": "code",
   "execution_count": 44,
   "metadata": {},
   "outputs": [
    {
     "data": {
      "text/html": [
       "<div>\n",
       "<style scoped>\n",
       "    .dataframe tbody tr th:only-of-type {\n",
       "        vertical-align: middle;\n",
       "    }\n",
       "\n",
       "    .dataframe tbody tr th {\n",
       "        vertical-align: top;\n",
       "    }\n",
       "\n",
       "    .dataframe thead th {\n",
       "        text-align: right;\n",
       "    }\n",
       "</style>\n",
       "<table border=\"1\" class=\"dataframe\">\n",
       "  <thead>\n",
       "    <tr style=\"text-align: right;\">\n",
       "      <th></th>\n",
       "      <th>click</th>\n",
       "      <th>load</th>\n",
       "    </tr>\n",
       "    <tr>\n",
       "      <th>source_event_id</th>\n",
       "      <th></th>\n",
       "      <th></th>\n",
       "    </tr>\n",
       "  </thead>\n",
       "  <tbody>\n",
       "    <tr>\n",
       "      <th>00142c59-745c-4004-a955-698ddcf1faa6</th>\n",
       "      <td>4.0</td>\n",
       "      <td>NaN</td>\n",
       "    </tr>\n",
       "    <tr>\n",
       "      <th>0016f59f-9fb3-4ab5-ae78-9783314b81fc</th>\n",
       "      <td>10.0</td>\n",
       "      <td>NaN</td>\n",
       "    </tr>\n",
       "    <tr>\n",
       "      <th>0017b9ef-5903-40f9-a219-85728eb78436</th>\n",
       "      <td>5.0</td>\n",
       "      <td>NaN</td>\n",
       "    </tr>\n",
       "    <tr>\n",
       "      <th>00240c5c-9d06-4fcd-93f5-93b842fdab63</th>\n",
       "      <td>1.0</td>\n",
       "      <td>NaN</td>\n",
       "    </tr>\n",
       "    <tr>\n",
       "      <th>0036112e-03f7-4175-ba32-be852dcad535</th>\n",
       "      <td>4.0</td>\n",
       "      <td>NaN</td>\n",
       "    </tr>\n",
       "    <tr>\n",
       "      <th>...</th>\n",
       "      <td>...</td>\n",
       "      <td>...</td>\n",
       "    </tr>\n",
       "    <tr>\n",
       "      <th>ffb9411d-9e93-4fc0-bf71-82abe7539f7b</th>\n",
       "      <td>4.0</td>\n",
       "      <td>NaN</td>\n",
       "    </tr>\n",
       "    <tr>\n",
       "      <th>ffcc7cd6-2678-46de-8b25-9d796ad095f1</th>\n",
       "      <td>12.0</td>\n",
       "      <td>NaN</td>\n",
       "    </tr>\n",
       "    <tr>\n",
       "      <th>ffdd48fc-4c05-4c75-bf8c-5cd42729d2b8</th>\n",
       "      <td>5.0</td>\n",
       "      <td>NaN</td>\n",
       "    </tr>\n",
       "    <tr>\n",
       "      <th>ffe3a1f8-c363-4fbb-af5f-0d244b21aea4</th>\n",
       "      <td>7.0</td>\n",
       "      <td>NaN</td>\n",
       "    </tr>\n",
       "    <tr>\n",
       "      <th>ffef31ea-cb4e-4d00-98ca-118df330cdca</th>\n",
       "      <td>2.0</td>\n",
       "      <td>NaN</td>\n",
       "    </tr>\n",
       "  </tbody>\n",
       "</table>\n",
       "<p>4915 rows × 2 columns</p>\n",
       "</div>"
      ],
      "text/plain": [
       "                                      click  load\n",
       "source_event_id                                  \n",
       "00142c59-745c-4004-a955-698ddcf1faa6    4.0   NaN\n",
       "0016f59f-9fb3-4ab5-ae78-9783314b81fc   10.0   NaN\n",
       "0017b9ef-5903-40f9-a219-85728eb78436    5.0   NaN\n",
       "00240c5c-9d06-4fcd-93f5-93b842fdab63    1.0   NaN\n",
       "0036112e-03f7-4175-ba32-be852dcad535    4.0   NaN\n",
       "...                                     ...   ...\n",
       "ffb9411d-9e93-4fc0-bf71-82abe7539f7b    4.0   NaN\n",
       "ffcc7cd6-2678-46de-8b25-9d796ad095f1   12.0   NaN\n",
       "ffdd48fc-4c05-4c75-bf8c-5cd42729d2b8    5.0   NaN\n",
       "ffe3a1f8-c363-4fbb-af5f-0d244b21aea4    7.0   NaN\n",
       "ffef31ea-cb4e-4d00-98ca-118df330cdca    2.0   NaN\n",
       "\n",
       "[4915 rows x 2 columns]"
      ]
     },
     "execution_count": 44,
     "metadata": {},
     "output_type": "execute_result"
    }
   ],
   "source": [
    "# this shows queries that have click without load\n",
    "load_click_query[load_click_query['load'].isna()]"
   ]
  },
  {
   "cell_type": "code",
   "execution_count": 45,
   "metadata": {},
   "outputs": [],
   "source": [
    "# okay queries\n",
    "load_click_query_revised = load_click_query[load_click_query['load'].notna()].copy()"
   ]
  },
  {
   "cell_type": "code",
   "execution_count": 46,
   "metadata": {},
   "outputs": [
    {
     "data": {
      "text/html": [
       "<div>\n",
       "<style scoped>\n",
       "    .dataframe tbody tr th:only-of-type {\n",
       "        vertical-align: middle;\n",
       "    }\n",
       "\n",
       "    .dataframe tbody tr th {\n",
       "        vertical-align: top;\n",
       "    }\n",
       "\n",
       "    .dataframe thead th {\n",
       "        text-align: right;\n",
       "    }\n",
       "</style>\n",
       "<table border=\"1\" class=\"dataframe\">\n",
       "  <thead>\n",
       "    <tr style=\"text-align: right;\">\n",
       "      <th></th>\n",
       "      <th>click</th>\n",
       "      <th>load</th>\n",
       "      <th>click/load</th>\n",
       "    </tr>\n",
       "    <tr>\n",
       "      <th>source_event_id</th>\n",
       "      <th></th>\n",
       "      <th></th>\n",
       "      <th></th>\n",
       "    </tr>\n",
       "  </thead>\n",
       "  <tbody>\n",
       "    <tr>\n",
       "      <th>00049ef3-c027-4f55-869c-46711f0ea0ad</th>\n",
       "      <td>NaN</td>\n",
       "      <td>1.0</td>\n",
       "      <td>NaN</td>\n",
       "    </tr>\n",
       "    <tr>\n",
       "      <th>00069dda-4175-4bb0-8ef0-c0e1031d4da6</th>\n",
       "      <td>NaN</td>\n",
       "      <td>1.0</td>\n",
       "      <td>NaN</td>\n",
       "    </tr>\n",
       "    <tr>\n",
       "      <th>0017c208-e016-4231-a022-598ba020f1ff</th>\n",
       "      <td>4.0</td>\n",
       "      <td>7.0</td>\n",
       "      <td>0.571429</td>\n",
       "    </tr>\n",
       "    <tr>\n",
       "      <th>002222cf-9e4b-4432-9e36-ad500a753850</th>\n",
       "      <td>NaN</td>\n",
       "      <td>1.0</td>\n",
       "      <td>NaN</td>\n",
       "    </tr>\n",
       "    <tr>\n",
       "      <th>004dc60d-2288-453f-bcda-1ad5e8d8211f</th>\n",
       "      <td>3.0</td>\n",
       "      <td>2.0</td>\n",
       "      <td>1.500000</td>\n",
       "    </tr>\n",
       "    <tr>\n",
       "      <th>...</th>\n",
       "      <td>...</td>\n",
       "      <td>...</td>\n",
       "      <td>...</td>\n",
       "    </tr>\n",
       "    <tr>\n",
       "      <th>ffda8068-9c22-46f0-971e-6b2b19c764ea</th>\n",
       "      <td>2.0</td>\n",
       "      <td>9.0</td>\n",
       "      <td>0.222222</td>\n",
       "    </tr>\n",
       "    <tr>\n",
       "      <th>ffeaa17f-ee79-4f42-be58-afd60a5aef37</th>\n",
       "      <td>NaN</td>\n",
       "      <td>2.0</td>\n",
       "      <td>NaN</td>\n",
       "    </tr>\n",
       "    <tr>\n",
       "      <th>ffec4e11-c0a1-4fa4-8613-0979d6f46918</th>\n",
       "      <td>5.0</td>\n",
       "      <td>22.0</td>\n",
       "      <td>0.227273</td>\n",
       "    </tr>\n",
       "    <tr>\n",
       "      <th>ffef6048-9db0-4244-9750-3b530552f0ec</th>\n",
       "      <td>43.0</td>\n",
       "      <td>35.0</td>\n",
       "      <td>1.228571</td>\n",
       "    </tr>\n",
       "    <tr>\n",
       "      <th>fffc83a5-3f35-4cfe-bb4d-e1b9bf709860</th>\n",
       "      <td>NaN</td>\n",
       "      <td>1.0</td>\n",
       "      <td>NaN</td>\n",
       "    </tr>\n",
       "  </tbody>\n",
       "</table>\n",
       "<p>9381 rows × 3 columns</p>\n",
       "</div>"
      ],
      "text/plain": [
       "                                      click  load  click/load\n",
       "source_event_id                                              \n",
       "00049ef3-c027-4f55-869c-46711f0ea0ad    NaN   1.0         NaN\n",
       "00069dda-4175-4bb0-8ef0-c0e1031d4da6    NaN   1.0         NaN\n",
       "0017c208-e016-4231-a022-598ba020f1ff    4.0   7.0    0.571429\n",
       "002222cf-9e4b-4432-9e36-ad500a753850    NaN   1.0         NaN\n",
       "004dc60d-2288-453f-bcda-1ad5e8d8211f    3.0   2.0    1.500000\n",
       "...                                     ...   ...         ...\n",
       "ffda8068-9c22-46f0-971e-6b2b19c764ea    2.0   9.0    0.222222\n",
       "ffeaa17f-ee79-4f42-be58-afd60a5aef37    NaN   2.0         NaN\n",
       "ffec4e11-c0a1-4fa4-8613-0979d6f46918    5.0  22.0    0.227273\n",
       "ffef6048-9db0-4244-9750-3b530552f0ec   43.0  35.0    1.228571\n",
       "fffc83a5-3f35-4cfe-bb4d-e1b9bf709860    NaN   1.0         NaN\n",
       "\n",
       "[9381 rows x 3 columns]"
      ]
     },
     "execution_count": 46,
     "metadata": {},
     "output_type": "execute_result"
    }
   ],
   "source": [
    "load_click_query_revised['click/load'] = load_click_query_revised['click'] / load_click_query_revised['load']\n",
    "load_click_query_revised"
   ]
  },
  {
   "cell_type": "markdown",
   "metadata": {},
   "source": [
    "البته در اینجا مشکل دیگری هم داریم. اینکه در مواردی درصد کلیک به لود بزرگ تر از ۱ است."
   ]
  },
  {
   "cell_type": "code",
   "execution_count": 47,
   "metadata": {},
   "outputs": [],
   "source": [
    "load_click_query_revised = load_click_query_revised[(load_click_query_revised['click/load'].isna()) | (load_click_query_revised['click/load'] <= 1) ].copy()"
   ]
  },
  {
   "cell_type": "code",
   "execution_count": 48,
   "metadata": {},
   "outputs": [
    {
     "data": {
      "text/html": [
       "<div>\n",
       "<style scoped>\n",
       "    .dataframe tbody tr th:only-of-type {\n",
       "        vertical-align: middle;\n",
       "    }\n",
       "\n",
       "    .dataframe tbody tr th {\n",
       "        vertical-align: top;\n",
       "    }\n",
       "\n",
       "    .dataframe thead th {\n",
       "        text-align: right;\n",
       "    }\n",
       "</style>\n",
       "<table border=\"1\" class=\"dataframe\">\n",
       "  <thead>\n",
       "    <tr style=\"text-align: right;\">\n",
       "      <th></th>\n",
       "      <th>click</th>\n",
       "      <th>load</th>\n",
       "      <th>click/load</th>\n",
       "    </tr>\n",
       "    <tr>\n",
       "      <th>source_event_id</th>\n",
       "      <th></th>\n",
       "      <th></th>\n",
       "      <th></th>\n",
       "    </tr>\n",
       "  </thead>\n",
       "  <tbody>\n",
       "    <tr>\n",
       "      <th>00049ef3-c027-4f55-869c-46711f0ea0ad</th>\n",
       "      <td>NaN</td>\n",
       "      <td>1.0</td>\n",
       "      <td>NaN</td>\n",
       "    </tr>\n",
       "    <tr>\n",
       "      <th>00069dda-4175-4bb0-8ef0-c0e1031d4da6</th>\n",
       "      <td>NaN</td>\n",
       "      <td>1.0</td>\n",
       "      <td>NaN</td>\n",
       "    </tr>\n",
       "    <tr>\n",
       "      <th>0017c208-e016-4231-a022-598ba020f1ff</th>\n",
       "      <td>4.0</td>\n",
       "      <td>7.0</td>\n",
       "      <td>0.571429</td>\n",
       "    </tr>\n",
       "    <tr>\n",
       "      <th>002222cf-9e4b-4432-9e36-ad500a753850</th>\n",
       "      <td>NaN</td>\n",
       "      <td>1.0</td>\n",
       "      <td>NaN</td>\n",
       "    </tr>\n",
       "    <tr>\n",
       "      <th>005058a1-e785-4712-8460-33cadc6b302b</th>\n",
       "      <td>NaN</td>\n",
       "      <td>1.0</td>\n",
       "      <td>NaN</td>\n",
       "    </tr>\n",
       "    <tr>\n",
       "      <th>...</th>\n",
       "      <td>...</td>\n",
       "      <td>...</td>\n",
       "      <td>...</td>\n",
       "    </tr>\n",
       "    <tr>\n",
       "      <th>ffd0cb32-0cd6-44d3-ad02-b87b764a47dd</th>\n",
       "      <td>NaN</td>\n",
       "      <td>1.0</td>\n",
       "      <td>NaN</td>\n",
       "    </tr>\n",
       "    <tr>\n",
       "      <th>ffda8068-9c22-46f0-971e-6b2b19c764ea</th>\n",
       "      <td>2.0</td>\n",
       "      <td>9.0</td>\n",
       "      <td>0.222222</td>\n",
       "    </tr>\n",
       "    <tr>\n",
       "      <th>ffeaa17f-ee79-4f42-be58-afd60a5aef37</th>\n",
       "      <td>NaN</td>\n",
       "      <td>2.0</td>\n",
       "      <td>NaN</td>\n",
       "    </tr>\n",
       "    <tr>\n",
       "      <th>ffec4e11-c0a1-4fa4-8613-0979d6f46918</th>\n",
       "      <td>5.0</td>\n",
       "      <td>22.0</td>\n",
       "      <td>0.227273</td>\n",
       "    </tr>\n",
       "    <tr>\n",
       "      <th>fffc83a5-3f35-4cfe-bb4d-e1b9bf709860</th>\n",
       "      <td>NaN</td>\n",
       "      <td>1.0</td>\n",
       "      <td>NaN</td>\n",
       "    </tr>\n",
       "  </tbody>\n",
       "</table>\n",
       "<p>6161 rows × 3 columns</p>\n",
       "</div>"
      ],
      "text/plain": [
       "                                      click  load  click/load\n",
       "source_event_id                                              \n",
       "00049ef3-c027-4f55-869c-46711f0ea0ad    NaN   1.0         NaN\n",
       "00069dda-4175-4bb0-8ef0-c0e1031d4da6    NaN   1.0         NaN\n",
       "0017c208-e016-4231-a022-598ba020f1ff    4.0   7.0    0.571429\n",
       "002222cf-9e4b-4432-9e36-ad500a753850    NaN   1.0         NaN\n",
       "005058a1-e785-4712-8460-33cadc6b302b    NaN   1.0         NaN\n",
       "...                                     ...   ...         ...\n",
       "ffd0cb32-0cd6-44d3-ad02-b87b764a47dd    NaN   1.0         NaN\n",
       "ffda8068-9c22-46f0-971e-6b2b19c764ea    2.0   9.0    0.222222\n",
       "ffeaa17f-ee79-4f42-be58-afd60a5aef37    NaN   2.0         NaN\n",
       "ffec4e11-c0a1-4fa4-8613-0979d6f46918    5.0  22.0    0.227273\n",
       "fffc83a5-3f35-4cfe-bb4d-e1b9bf709860    NaN   1.0         NaN\n",
       "\n",
       "[6161 rows x 3 columns]"
      ]
     },
     "execution_count": 48,
     "metadata": {},
     "output_type": "execute_result"
    }
   ],
   "source": [
    "load_click_query_revised"
   ]
  },
  {
   "cell_type": "code",
   "execution_count": 49,
   "metadata": {},
   "outputs": [],
   "source": [
    "# number of total valid queries with no click\n",
    "not_clicked_queries = len(load_click_query_revised[load_click_query_revised['click'].isna()])\n",
    "# number of total queries\n",
    "total_queries = len(load_click_query_revised)"
   ]
  },
  {
   "cell_type": "code",
   "execution_count": 50,
   "metadata": {},
   "outputs": [
    {
     "data": {
      "text/plain": [
       "56.41941243304658"
      ]
     },
     "execution_count": 50,
     "metadata": {},
     "output_type": "execute_result"
    }
   ],
   "source": [
    "query_bounce_rate = not_clicked_queries / total_queries * 100\n",
    "query_bounce_rate"
   ]
  },
  {
   "cell_type": "markdown",
   "metadata": {},
   "source": [
    "## Question 3: choose a metric"
   ]
  },
  {
   "cell_type": "markdown",
   "metadata": {},
   "source": [
    "به نظر من متریک اول برای ارزیابی اینکه چقدر آگهی های نشان داده شده مطابق خواسته های کاربر است مناسب تر است.به طور معمول اگر کاربر درصد زیادی از آگهی هایی که لود میکند را کلیک کند یعنی از آگهی های نشان داده شده راضی بوده. جه تعداد آگهی های لود شده زیاد باشد و چه کم آگهی ها در این صورت مناسب کاربر هستند. \n",
    "متریک دوم متریک مناسبی نیست. چون ممکن است آگهی های نامناسبی از رده ی دوم به بعد لود شود ولی از قضا اولین آن اگهی ها مناسب کاربر باشد و کاربر روی آن کلیک  کند اما بعد آن تعداد زیادی آگهی دیگر لود کند و چیز مناسبی پیدا نکند. به وضوح کاربر در زمانی راضی تر است که رنک اولین کلیک بیشتر باشد ولی از بعد آن به وفور آگهی مناسب ببیند.\n",
    "چهارمین متریک هم خیلی متفاوت با دومی نیست. به همان دلیلی که اولی را رد کردیم چهارمی هم رد میشود. \n",
    "متریک سوم به ما میگوید کاربر به طور میانگین چند تا چند تا روی آگهی ها کلیک میکند. موقعیتی را تصور کنید که کاربر فقط روی دو آگهی پشت هم کلیک میکند و بعد آن ساعت ها اسکرول میکند و آگهی مناسبی پیدا نمیکند. آگهی ها در این صورت مناسب کاربر نبوده اند ولی این متریک خلاف آن را نشان میدهد، در واقع این متریک چون به تعداد آگهی های لود شده توجه نمیکند دچار مشکل میشود."
   ]
  },
  {
   "cell_type": "code",
   "execution_count": 51,
   "metadata": {},
   "outputs": [
    {
     "data": {
      "text/html": [
       "<div>\n",
       "<style scoped>\n",
       "    .dataframe tbody tr th:only-of-type {\n",
       "        vertical-align: middle;\n",
       "    }\n",
       "\n",
       "    .dataframe tbody tr th {\n",
       "        vertical-align: top;\n",
       "    }\n",
       "\n",
       "    .dataframe thead th {\n",
       "        text-align: right;\n",
       "    }\n",
       "</style>\n",
       "<table border=\"1\" class=\"dataframe\">\n",
       "  <thead>\n",
       "    <tr style=\"text-align: right;\">\n",
       "      <th></th>\n",
       "      <th>click</th>\n",
       "      <th>load</th>\n",
       "      <th>click/load</th>\n",
       "    </tr>\n",
       "    <tr>\n",
       "      <th>source_event_id</th>\n",
       "      <th></th>\n",
       "      <th></th>\n",
       "      <th></th>\n",
       "    </tr>\n",
       "  </thead>\n",
       "  <tbody>\n",
       "    <tr>\n",
       "      <th>00049ef3-c027-4f55-869c-46711f0ea0ad</th>\n",
       "      <td>NaN</td>\n",
       "      <td>1.0</td>\n",
       "      <td>0.000000</td>\n",
       "    </tr>\n",
       "    <tr>\n",
       "      <th>00069dda-4175-4bb0-8ef0-c0e1031d4da6</th>\n",
       "      <td>NaN</td>\n",
       "      <td>1.0</td>\n",
       "      <td>0.000000</td>\n",
       "    </tr>\n",
       "    <tr>\n",
       "      <th>0017c208-e016-4231-a022-598ba020f1ff</th>\n",
       "      <td>4.0</td>\n",
       "      <td>7.0</td>\n",
       "      <td>0.571429</td>\n",
       "    </tr>\n",
       "    <tr>\n",
       "      <th>002222cf-9e4b-4432-9e36-ad500a753850</th>\n",
       "      <td>NaN</td>\n",
       "      <td>1.0</td>\n",
       "      <td>0.000000</td>\n",
       "    </tr>\n",
       "    <tr>\n",
       "      <th>005058a1-e785-4712-8460-33cadc6b302b</th>\n",
       "      <td>NaN</td>\n",
       "      <td>1.0</td>\n",
       "      <td>0.000000</td>\n",
       "    </tr>\n",
       "    <tr>\n",
       "      <th>...</th>\n",
       "      <td>...</td>\n",
       "      <td>...</td>\n",
       "      <td>...</td>\n",
       "    </tr>\n",
       "    <tr>\n",
       "      <th>ffd0cb32-0cd6-44d3-ad02-b87b764a47dd</th>\n",
       "      <td>NaN</td>\n",
       "      <td>1.0</td>\n",
       "      <td>0.000000</td>\n",
       "    </tr>\n",
       "    <tr>\n",
       "      <th>ffda8068-9c22-46f0-971e-6b2b19c764ea</th>\n",
       "      <td>2.0</td>\n",
       "      <td>9.0</td>\n",
       "      <td>0.222222</td>\n",
       "    </tr>\n",
       "    <tr>\n",
       "      <th>ffeaa17f-ee79-4f42-be58-afd60a5aef37</th>\n",
       "      <td>NaN</td>\n",
       "      <td>2.0</td>\n",
       "      <td>0.000000</td>\n",
       "    </tr>\n",
       "    <tr>\n",
       "      <th>ffec4e11-c0a1-4fa4-8613-0979d6f46918</th>\n",
       "      <td>5.0</td>\n",
       "      <td>22.0</td>\n",
       "      <td>0.227273</td>\n",
       "    </tr>\n",
       "    <tr>\n",
       "      <th>fffc83a5-3f35-4cfe-bb4d-e1b9bf709860</th>\n",
       "      <td>NaN</td>\n",
       "      <td>1.0</td>\n",
       "      <td>0.000000</td>\n",
       "    </tr>\n",
       "  </tbody>\n",
       "</table>\n",
       "<p>6161 rows × 3 columns</p>\n",
       "</div>"
      ],
      "text/plain": [
       "                                      click  load  click/load\n",
       "source_event_id                                              \n",
       "00049ef3-c027-4f55-869c-46711f0ea0ad    NaN   1.0    0.000000\n",
       "00069dda-4175-4bb0-8ef0-c0e1031d4da6    NaN   1.0    0.000000\n",
       "0017c208-e016-4231-a022-598ba020f1ff    4.0   7.0    0.571429\n",
       "002222cf-9e4b-4432-9e36-ad500a753850    NaN   1.0    0.000000\n",
       "005058a1-e785-4712-8460-33cadc6b302b    NaN   1.0    0.000000\n",
       "...                                     ...   ...         ...\n",
       "ffd0cb32-0cd6-44d3-ad02-b87b764a47dd    NaN   1.0    0.000000\n",
       "ffda8068-9c22-46f0-971e-6b2b19c764ea    2.0   9.0    0.222222\n",
       "ffeaa17f-ee79-4f42-be58-afd60a5aef37    NaN   2.0    0.000000\n",
       "ffec4e11-c0a1-4fa4-8613-0979d6f46918    5.0  22.0    0.227273\n",
       "fffc83a5-3f35-4cfe-bb4d-e1b9bf709860    NaN   1.0    0.000000\n",
       "\n",
       "[6161 rows x 3 columns]"
      ]
     },
     "execution_count": 51,
     "metadata": {},
     "output_type": "execute_result"
    }
   ],
   "source": [
    "load_click_query_revised['click/load'] = load_click_query_revised['click/load'].fillna(0)\n",
    "load_click_query_revised"
   ]
  },
  {
   "cell_type": "code",
   "execution_count": 52,
   "metadata": {},
   "outputs": [
    {
     "data": {
      "text/plain": [
       "0.31412507828353264"
      ]
     },
     "execution_count": 52,
     "metadata": {},
     "output_type": "execute_result"
    }
   ],
   "source": [
    "chosen_metric = load_click_query_revised['click/load'].mean()\n",
    "chosen_metric"
   ]
  },
  {
   "cell_type": "markdown",
   "metadata": {},
   "source": [
    "## Question 4: model"
   ]
  },
  {
   "cell_type": "markdown",
   "metadata": {},
   "source": [
    "در ابتدا دیتافریمی درست میکنیم و آن را به شکل خاصی پر میکنیم. سپس روی پلات آن نسبت به دو ستون دیتای کلی را مدل میکنیم"
   ]
  },
  {
   "cell_type": "code",
   "execution_count": 53,
   "metadata": {},
   "outputs": [
    {
     "data": {
      "text/html": [
       "<div>\n",
       "<style scoped>\n",
       "    .dataframe tbody tr th:only-of-type {\n",
       "        vertical-align: middle;\n",
       "    }\n",
       "\n",
       "    .dataframe tbody tr th {\n",
       "        vertical-align: top;\n",
       "    }\n",
       "\n",
       "    .dataframe thead th {\n",
       "        text-align: right;\n",
       "    }\n",
       "</style>\n",
       "<table border=\"1\" class=\"dataframe\">\n",
       "  <thead>\n",
       "    <tr style=\"text-align: right;\">\n",
       "      <th></th>\n",
       "      <th>token</th>\n",
       "    </tr>\n",
       "    <tr>\n",
       "      <th>post_index</th>\n",
       "      <th></th>\n",
       "    </tr>\n",
       "  </thead>\n",
       "  <tbody>\n",
       "    <tr>\n",
       "      <th>0.0</th>\n",
       "      <td>9037</td>\n",
       "    </tr>\n",
       "    <tr>\n",
       "      <th>1.0</th>\n",
       "      <td>8785</td>\n",
       "    </tr>\n",
       "    <tr>\n",
       "      <th>2.0</th>\n",
       "      <td>8591</td>\n",
       "    </tr>\n",
       "    <tr>\n",
       "      <th>3.0</th>\n",
       "      <td>8426</td>\n",
       "    </tr>\n",
       "    <tr>\n",
       "      <th>4.0</th>\n",
       "      <td>8313</td>\n",
       "    </tr>\n",
       "    <tr>\n",
       "      <th>...</th>\n",
       "      <td>...</td>\n",
       "    </tr>\n",
       "    <tr>\n",
       "      <th>3883.0</th>\n",
       "      <td>1</td>\n",
       "    </tr>\n",
       "    <tr>\n",
       "      <th>3884.0</th>\n",
       "      <td>1</td>\n",
       "    </tr>\n",
       "    <tr>\n",
       "      <th>3885.0</th>\n",
       "      <td>1</td>\n",
       "    </tr>\n",
       "    <tr>\n",
       "      <th>3886.0</th>\n",
       "      <td>1</td>\n",
       "    </tr>\n",
       "    <tr>\n",
       "      <th>3887.0</th>\n",
       "      <td>1</td>\n",
       "    </tr>\n",
       "  </tbody>\n",
       "</table>\n",
       "<p>3888 rows × 1 columns</p>\n",
       "</div>"
      ],
      "text/plain": [
       "            token\n",
       "post_index       \n",
       "0.0          9037\n",
       "1.0          8785\n",
       "2.0          8591\n",
       "3.0          8426\n",
       "4.0          8313\n",
       "...           ...\n",
       "3883.0          1\n",
       "3884.0          1\n",
       "3885.0          1\n",
       "3886.0          1\n",
       "3887.0          1\n",
       "\n",
       "[3888 rows x 1 columns]"
      ]
     },
     "execution_count": 53,
     "metadata": {},
     "output_type": "execute_result"
    }
   ],
   "source": [
    "# how many posts have been loaded in a specific rank/position \n",
    "rank_load = new_loaded_df.drop(columns=['created_at', 'source_event_id', 'device_id', 'post_page_offset']).set_index('post_index')\n",
    "rank_load.groupby('post_index').count()"
   ]
  },
  {
   "cell_type": "code",
   "execution_count": 54,
   "metadata": {},
   "outputs": [
    {
     "data": {
      "text/html": [
       "<div>\n",
       "<style scoped>\n",
       "    .dataframe tbody tr th:only-of-type {\n",
       "        vertical-align: middle;\n",
       "    }\n",
       "\n",
       "    .dataframe tbody tr th {\n",
       "        vertical-align: top;\n",
       "    }\n",
       "\n",
       "    .dataframe thead th {\n",
       "        text-align: right;\n",
       "    }\n",
       "</style>\n",
       "<table border=\"1\" class=\"dataframe\">\n",
       "  <thead>\n",
       "    <tr style=\"text-align: right;\">\n",
       "      <th></th>\n",
       "      <th>post_token</th>\n",
       "    </tr>\n",
       "    <tr>\n",
       "      <th>post_index_in_post_list</th>\n",
       "      <th></th>\n",
       "    </tr>\n",
       "  </thead>\n",
       "  <tbody>\n",
       "    <tr>\n",
       "      <th>1.0</th>\n",
       "      <td>2702</td>\n",
       "    </tr>\n",
       "    <tr>\n",
       "      <th>2.0</th>\n",
       "      <td>2517</td>\n",
       "    </tr>\n",
       "    <tr>\n",
       "      <th>3.0</th>\n",
       "      <td>2271</td>\n",
       "    </tr>\n",
       "    <tr>\n",
       "      <th>4.0</th>\n",
       "      <td>1967</td>\n",
       "    </tr>\n",
       "    <tr>\n",
       "      <th>5.0</th>\n",
       "      <td>1720</td>\n",
       "    </tr>\n",
       "    <tr>\n",
       "      <th>...</th>\n",
       "      <td>...</td>\n",
       "    </tr>\n",
       "    <tr>\n",
       "      <th>5115.0</th>\n",
       "      <td>1</td>\n",
       "    </tr>\n",
       "    <tr>\n",
       "      <th>5128.0</th>\n",
       "      <td>1</td>\n",
       "    </tr>\n",
       "    <tr>\n",
       "      <th>5142.0</th>\n",
       "      <td>1</td>\n",
       "    </tr>\n",
       "    <tr>\n",
       "      <th>5159.0</th>\n",
       "      <td>1</td>\n",
       "    </tr>\n",
       "    <tr>\n",
       "      <th>5176.0</th>\n",
       "      <td>1</td>\n",
       "    </tr>\n",
       "  </tbody>\n",
       "</table>\n",
       "<p>1868 rows × 1 columns</p>\n",
       "</div>"
      ],
      "text/plain": [
       "                         post_token\n",
       "post_index_in_post_list            \n",
       "1.0                            2702\n",
       "2.0                            2517\n",
       "3.0                            2271\n",
       "4.0                            1967\n",
       "5.0                            1720\n",
       "...                             ...\n",
       "5115.0                            1\n",
       "5128.0                            1\n",
       "5142.0                            1\n",
       "5159.0                            1\n",
       "5176.0                            1\n",
       "\n",
       "[1868 rows x 1 columns]"
      ]
     },
     "execution_count": 54,
     "metadata": {},
     "output_type": "execute_result"
    }
   ],
   "source": [
    "# how many posts have been clicked in a specific rank/position \n",
    "rank_click = clicked_df.drop(columns=['created_at', 'source_event_id', 'device_id']).set_index('post_index_in_post_list')\n",
    "rank_click.groupby('post_index_in_post_list').count()"
   ]
  },
  {
   "cell_type": "markdown",
   "metadata": {},
   "source": [
    "باز اینجا هم میبینیم که روی رنک هایی کلیک شده است که اصلا لود نشده بودند. به عبارتی رنک ۳۸۸۸ به بعد برای کلیک نمیتواند ولید باشد."
   ]
  },
  {
   "cell_type": "code",
   "execution_count": 55,
   "metadata": {},
   "outputs": [
    {
     "data": {
      "text/html": [
       "<div>\n",
       "<style scoped>\n",
       "    .dataframe tbody tr th:only-of-type {\n",
       "        vertical-align: middle;\n",
       "    }\n",
       "\n",
       "    .dataframe tbody tr th {\n",
       "        vertical-align: top;\n",
       "    }\n",
       "\n",
       "    .dataframe thead th {\n",
       "        text-align: right;\n",
       "    }\n",
       "</style>\n",
       "<table border=\"1\" class=\"dataframe\">\n",
       "  <thead>\n",
       "    <tr style=\"text-align: right;\">\n",
       "      <th></th>\n",
       "      <th>click_rank</th>\n",
       "      <th>load_rank</th>\n",
       "    </tr>\n",
       "    <tr>\n",
       "      <th>post_index</th>\n",
       "      <th></th>\n",
       "      <th></th>\n",
       "    </tr>\n",
       "  </thead>\n",
       "  <tbody>\n",
       "    <tr>\n",
       "      <th>0.0</th>\n",
       "      <td>NaN</td>\n",
       "      <td>9037</td>\n",
       "    </tr>\n",
       "    <tr>\n",
       "      <th>1.0</th>\n",
       "      <td>2702.0</td>\n",
       "      <td>8785</td>\n",
       "    </tr>\n",
       "    <tr>\n",
       "      <th>2.0</th>\n",
       "      <td>2517.0</td>\n",
       "      <td>8591</td>\n",
       "    </tr>\n",
       "    <tr>\n",
       "      <th>3.0</th>\n",
       "      <td>2271.0</td>\n",
       "      <td>8426</td>\n",
       "    </tr>\n",
       "    <tr>\n",
       "      <th>4.0</th>\n",
       "      <td>1967.0</td>\n",
       "      <td>8313</td>\n",
       "    </tr>\n",
       "    <tr>\n",
       "      <th>...</th>\n",
       "      <td>...</td>\n",
       "      <td>...</td>\n",
       "    </tr>\n",
       "    <tr>\n",
       "      <th>3883.0</th>\n",
       "      <td>NaN</td>\n",
       "      <td>1</td>\n",
       "    </tr>\n",
       "    <tr>\n",
       "      <th>3884.0</th>\n",
       "      <td>NaN</td>\n",
       "      <td>1</td>\n",
       "    </tr>\n",
       "    <tr>\n",
       "      <th>3885.0</th>\n",
       "      <td>NaN</td>\n",
       "      <td>1</td>\n",
       "    </tr>\n",
       "    <tr>\n",
       "      <th>3886.0</th>\n",
       "      <td>NaN</td>\n",
       "      <td>1</td>\n",
       "    </tr>\n",
       "    <tr>\n",
       "      <th>3887.0</th>\n",
       "      <td>NaN</td>\n",
       "      <td>1</td>\n",
       "    </tr>\n",
       "  </tbody>\n",
       "</table>\n",
       "<p>3888 rows × 2 columns</p>\n",
       "</div>"
      ],
      "text/plain": [
       "            click_rank  load_rank\n",
       "post_index                       \n",
       "0.0                NaN       9037\n",
       "1.0             2702.0       8785\n",
       "2.0             2517.0       8591\n",
       "3.0             2271.0       8426\n",
       "4.0             1967.0       8313\n",
       "...                ...        ...\n",
       "3883.0             NaN          1\n",
       "3884.0             NaN          1\n",
       "3885.0             NaN          1\n",
       "3886.0             NaN          1\n",
       "3887.0             NaN          1\n",
       "\n",
       "[3888 rows x 2 columns]"
      ]
     },
     "execution_count": 55,
     "metadata": {},
     "output_type": "execute_result"
    }
   ],
   "source": [
    "# join rank_click and rank_load\n",
    "rank_prob = (rank_click.groupby('post_index_in_post_list').count()).join(rank_load.groupby('post_index').count(), how='right')\n",
    "rank_prob.rename(columns={'post_token':'click_rank', 'token':'load_rank'}, inplace=True)\n",
    "rank_prob"
   ]
  },
  {
   "cell_type": "code",
   "execution_count": 56,
   "metadata": {},
   "outputs": [
    {
     "name": "stderr",
     "output_type": "stream",
     "text": [
      "<ipython-input-56-c441bf0146ee>:3: SettingWithCopyWarning: \n",
      "A value is trying to be set on a copy of a slice from a DataFrame.\n",
      "Try using .loc[row_indexer,col_indexer] = value instead\n",
      "\n",
      "See the caveats in the documentation: https://pandas.pydata.org/pandas-docs/stable/user_guide/indexing.html#returning-a-view-versus-a-copy\n",
      "  rank_prob['click_rank/load_rank'] = rank_prob['click_rank/load_rank'].fillna(0).copy()\n"
     ]
    },
    {
     "data": {
      "text/html": [
       "<div>\n",
       "<style scoped>\n",
       "    .dataframe tbody tr th:only-of-type {\n",
       "        vertical-align: middle;\n",
       "    }\n",
       "\n",
       "    .dataframe tbody tr th {\n",
       "        vertical-align: top;\n",
       "    }\n",
       "\n",
       "    .dataframe thead th {\n",
       "        text-align: right;\n",
       "    }\n",
       "</style>\n",
       "<table border=\"1\" class=\"dataframe\">\n",
       "  <thead>\n",
       "    <tr style=\"text-align: right;\">\n",
       "      <th></th>\n",
       "      <th>click_rank</th>\n",
       "      <th>load_rank</th>\n",
       "      <th>click_rank/load_rank</th>\n",
       "    </tr>\n",
       "    <tr>\n",
       "      <th>post_index</th>\n",
       "      <th></th>\n",
       "      <th></th>\n",
       "      <th></th>\n",
       "    </tr>\n",
       "  </thead>\n",
       "  <tbody>\n",
       "    <tr>\n",
       "      <th>1.0</th>\n",
       "      <td>2702.0</td>\n",
       "      <td>8785</td>\n",
       "      <td>0.307570</td>\n",
       "    </tr>\n",
       "    <tr>\n",
       "      <th>2.0</th>\n",
       "      <td>2517.0</td>\n",
       "      <td>8591</td>\n",
       "      <td>0.292981</td>\n",
       "    </tr>\n",
       "    <tr>\n",
       "      <th>3.0</th>\n",
       "      <td>2271.0</td>\n",
       "      <td>8426</td>\n",
       "      <td>0.269523</td>\n",
       "    </tr>\n",
       "    <tr>\n",
       "      <th>4.0</th>\n",
       "      <td>1967.0</td>\n",
       "      <td>8313</td>\n",
       "      <td>0.236617</td>\n",
       "    </tr>\n",
       "    <tr>\n",
       "      <th>5.0</th>\n",
       "      <td>1720.0</td>\n",
       "      <td>8215</td>\n",
       "      <td>0.209373</td>\n",
       "    </tr>\n",
       "    <tr>\n",
       "      <th>...</th>\n",
       "      <td>...</td>\n",
       "      <td>...</td>\n",
       "      <td>...</td>\n",
       "    </tr>\n",
       "    <tr>\n",
       "      <th>3816.0</th>\n",
       "      <td>1.0</td>\n",
       "      <td>1</td>\n",
       "      <td>1.000000</td>\n",
       "    </tr>\n",
       "    <tr>\n",
       "      <th>3837.0</th>\n",
       "      <td>1.0</td>\n",
       "      <td>1</td>\n",
       "      <td>1.000000</td>\n",
       "    </tr>\n",
       "    <tr>\n",
       "      <th>3849.0</th>\n",
       "      <td>1.0</td>\n",
       "      <td>1</td>\n",
       "      <td>1.000000</td>\n",
       "    </tr>\n",
       "    <tr>\n",
       "      <th>3853.0</th>\n",
       "      <td>1.0</td>\n",
       "      <td>1</td>\n",
       "      <td>1.000000</td>\n",
       "    </tr>\n",
       "    <tr>\n",
       "      <th>3858.0</th>\n",
       "      <td>1.0</td>\n",
       "      <td>1</td>\n",
       "      <td>1.000000</td>\n",
       "    </tr>\n",
       "  </tbody>\n",
       "</table>\n",
       "<p>1840 rows × 3 columns</p>\n",
       "</div>"
      ],
      "text/plain": [
       "            click_rank  load_rank  click_rank/load_rank\n",
       "post_index                                             \n",
       "1.0             2702.0       8785              0.307570\n",
       "2.0             2517.0       8591              0.292981\n",
       "3.0             2271.0       8426              0.269523\n",
       "4.0             1967.0       8313              0.236617\n",
       "5.0             1720.0       8215              0.209373\n",
       "...                ...        ...                   ...\n",
       "3816.0             1.0          1              1.000000\n",
       "3837.0             1.0          1              1.000000\n",
       "3849.0             1.0          1              1.000000\n",
       "3853.0             1.0          1              1.000000\n",
       "3858.0             1.0          1              1.000000\n",
       "\n",
       "[1840 rows x 3 columns]"
      ]
     },
     "execution_count": 56,
     "metadata": {},
     "output_type": "execute_result"
    }
   ],
   "source": [
    "rank_prob['click_rank/load_rank'] = rank_prob['click_rank'] / rank_prob['load_rank']\n",
    "rank_prob = rank_prob[rank_prob['click_rank/load_rank'] <= 1]\n",
    "rank_prob['click_rank/load_rank'] = rank_prob['click_rank/load_rank'].fillna(0)\n",
    "rank_prob"
   ]
  },
  {
   "cell_type": "code",
   "execution_count": 57,
   "metadata": {},
   "outputs": [
    {
     "data": {
      "text/plain": [
       "<AxesSubplot:xlabel='post_index'>"
      ]
     },
     "execution_count": 57,
     "metadata": {},
     "output_type": "execute_result"
    },
    {
     "data": {
      "image/png": "[encoded data removed]",
      "text/plain": [
       "<Figure size 432x288 with 1 Axes>"
      ]
     },
     "metadata": {
      "needs_background": "light"
     },
     "output_type": "display_data"
    }
   ],
   "source": [
    "rank_prob.plot(y='click_rank/load_rank')"
   ]
  },
  {
   "cell_type": "markdown",
   "metadata": {},
   "source": [
    "    از رنکی به بعد احتمال کلیک روی رنک بعد از لود کردن آن بسیار زیاد میشود.  به نظر می آید که این موضوع به خاطر کرال باشد. منطقی هم نیست انسانی تا رنکی بیشتر از ۵۰۰ برود. کات آف را ۵۰۰ میگذاریم ."
   ]
  },
  {
   "cell_type": "code",
   "execution_count": 58,
   "metadata": {},
   "outputs": [
    {
     "data": {
      "text/plain": [
       "<AxesSubplot:xlabel='post_index'>"
      ]
     },
     "execution_count": 58,
     "metadata": {},
     "output_type": "execute_result"
    },
    {
     "data": {
      "image/png": "[encoded data removed]",
      "text/plain": [
       "<Figure size 432x288 with 1 Axes>"
      ]
     },
     "metadata": {
      "needs_background": "light"
     },
     "output_type": "display_data"
    }
   ],
   "source": [
    "revised_rank_prob = rank_prob.head(500).copy()\n",
    "revised_rank_prob.plot(y=\"click_rank/load_rank\")"
   ]
  },
  {
   "cell_type": "code",
   "execution_count": 59,
   "metadata": {},
   "outputs": [
    {
     "data": {
      "text/plain": [
       "75750"
      ]
     },
     "execution_count": 59,
     "metadata": {},
     "output_type": "execute_result"
    }
   ],
   "source": [
    "number_of_clicks = clicked_df.shape[0]\n",
    "number_of_clicks"
   ]
  },
  {
   "cell_type": "code",
   "execution_count": 60,
   "metadata": {},
   "outputs": [],
   "source": [
    "revised_rank_prob['click_rank/total_click'] = revised_rank_prob['click_rank'] / number_of_clicks * 100"
   ]
  },
  {
   "cell_type": "code",
   "execution_count": 61,
   "metadata": {},
   "outputs": [
    {
     "data": {
      "text/html": [
       "<div>\n",
       "<style scoped>\n",
       "    .dataframe tbody tr th:only-of-type {\n",
       "        vertical-align: middle;\n",
       "    }\n",
       "\n",
       "    .dataframe tbody tr th {\n",
       "        vertical-align: top;\n",
       "    }\n",
       "\n",
       "    .dataframe thead th {\n",
       "        text-align: right;\n",
       "    }\n",
       "</style>\n",
       "<table border=\"1\" class=\"dataframe\">\n",
       "  <thead>\n",
       "    <tr style=\"text-align: right;\">\n",
       "      <th></th>\n",
       "      <th>post_index</th>\n",
       "      <th>click_rank</th>\n",
       "      <th>load_rank</th>\n",
       "      <th>click_rank/load_rank</th>\n",
       "      <th>click_rank/total_click</th>\n",
       "    </tr>\n",
       "  </thead>\n",
       "  <tbody>\n",
       "    <tr>\n",
       "      <th>0</th>\n",
       "      <td>1.0</td>\n",
       "      <td>2702.0</td>\n",
       "      <td>8785</td>\n",
       "      <td>0.307570</td>\n",
       "      <td>3.566997</td>\n",
       "    </tr>\n",
       "    <tr>\n",
       "      <th>1</th>\n",
       "      <td>2.0</td>\n",
       "      <td>2517.0</td>\n",
       "      <td>8591</td>\n",
       "      <td>0.292981</td>\n",
       "      <td>3.322772</td>\n",
       "    </tr>\n",
       "    <tr>\n",
       "      <th>2</th>\n",
       "      <td>3.0</td>\n",
       "      <td>2271.0</td>\n",
       "      <td>8426</td>\n",
       "      <td>0.269523</td>\n",
       "      <td>2.998020</td>\n",
       "    </tr>\n",
       "    <tr>\n",
       "      <th>3</th>\n",
       "      <td>4.0</td>\n",
       "      <td>1967.0</td>\n",
       "      <td>8313</td>\n",
       "      <td>0.236617</td>\n",
       "      <td>2.596700</td>\n",
       "    </tr>\n",
       "    <tr>\n",
       "      <th>4</th>\n",
       "      <td>5.0</td>\n",
       "      <td>1720.0</td>\n",
       "      <td>8215</td>\n",
       "      <td>0.209373</td>\n",
       "      <td>2.270627</td>\n",
       "    </tr>\n",
       "    <tr>\n",
       "      <th>...</th>\n",
       "      <td>...</td>\n",
       "      <td>...</td>\n",
       "      <td>...</td>\n",
       "      <td>...</td>\n",
       "      <td>...</td>\n",
       "    </tr>\n",
       "    <tr>\n",
       "      <th>495</th>\n",
       "      <td>496.0</td>\n",
       "      <td>15.0</td>\n",
       "      <td>224</td>\n",
       "      <td>0.066964</td>\n",
       "      <td>0.019802</td>\n",
       "    </tr>\n",
       "    <tr>\n",
       "      <th>496</th>\n",
       "      <td>497.0</td>\n",
       "      <td>15.0</td>\n",
       "      <td>224</td>\n",
       "      <td>0.066964</td>\n",
       "      <td>0.019802</td>\n",
       "    </tr>\n",
       "    <tr>\n",
       "      <th>497</th>\n",
       "      <td>498.0</td>\n",
       "      <td>14.0</td>\n",
       "      <td>224</td>\n",
       "      <td>0.062500</td>\n",
       "      <td>0.018482</td>\n",
       "    </tr>\n",
       "    <tr>\n",
       "      <th>498</th>\n",
       "      <td>499.0</td>\n",
       "      <td>12.0</td>\n",
       "      <td>224</td>\n",
       "      <td>0.053571</td>\n",
       "      <td>0.015842</td>\n",
       "    </tr>\n",
       "    <tr>\n",
       "      <th>499</th>\n",
       "      <td>500.0</td>\n",
       "      <td>9.0</td>\n",
       "      <td>224</td>\n",
       "      <td>0.040179</td>\n",
       "      <td>0.011881</td>\n",
       "    </tr>\n",
       "  </tbody>\n",
       "</table>\n",
       "<p>500 rows × 5 columns</p>\n",
       "</div>"
      ],
      "text/plain": [
       "     post_index  click_rank  load_rank  click_rank/load_rank  \\\n",
       "0           1.0      2702.0       8785              0.307570   \n",
       "1           2.0      2517.0       8591              0.292981   \n",
       "2           3.0      2271.0       8426              0.269523   \n",
       "3           4.0      1967.0       8313              0.236617   \n",
       "4           5.0      1720.0       8215              0.209373   \n",
       "..          ...         ...        ...                   ...   \n",
       "495       496.0        15.0        224              0.066964   \n",
       "496       497.0        15.0        224              0.066964   \n",
       "497       498.0        14.0        224              0.062500   \n",
       "498       499.0        12.0        224              0.053571   \n",
       "499       500.0         9.0        224              0.040179   \n",
       "\n",
       "     click_rank/total_click  \n",
       "0                  3.566997  \n",
       "1                  3.322772  \n",
       "2                  2.998020  \n",
       "3                  2.596700  \n",
       "4                  2.270627  \n",
       "..                      ...  \n",
       "495                0.019802  \n",
       "496                0.019802  \n",
       "497                0.018482  \n",
       "498                0.015842  \n",
       "499                0.011881  \n",
       "\n",
       "[500 rows x 5 columns]"
      ]
     },
     "execution_count": 61,
     "metadata": {},
     "output_type": "execute_result"
    }
   ],
   "source": [
    "revised_rank_prob.reset_index(inplace=True)\n",
    "# revised_rank_prob.drop(columns='index', inplace=True)\n",
    "revised_rank_prob"
   ]
  },
  {
   "cell_type": "code",
   "execution_count": 62,
   "metadata": {},
   "outputs": [
    {
     "data": {
      "text/plain": [
       "<AxesSubplot:>"
      ]
     },
     "execution_count": 62,
     "metadata": {},
     "output_type": "execute_result"
    },
    {
     "data": {
      "image/png": "[encoded data removed]",
      "text/plain": [
       "<Figure size 432x288 with 1 Axes>"
      ]
     },
     "metadata": {
      "needs_background": "light"
     },
     "output_type": "display_data"
    }
   ],
   "source": [
    "revised_rank_prob.plot(y='click_rank/total_click')"
   ]
  },
  {
   "cell_type": "markdown",
   "metadata": {},
   "source": [
    "## model 1: exponential regression on click_rank/total_rank"
   ]
  },
  {
   "cell_type": "code",
   "execution_count": 63,
   "metadata": {},
   "outputs": [],
   "source": [
    "x = revised_rank_prob['post_index'].to_numpy()\n",
    "y = revised_rank_prob['click_rank/total_click'].to_numpy()"
   ]
  },
  {
   "cell_type": "code",
   "execution_count": 64,
   "metadata": {},
   "outputs": [],
   "source": [
    "assert(x.shape == y.shape)"
   ]
  },
  {
   "cell_type": "code",
   "execution_count": 65,
   "metadata": {},
   "outputs": [],
   "source": [
    "exponential_fit = np.polyfit(x, np.log(y), 1)"
   ]
  },
  {
   "cell_type": "code",
   "execution_count": 66,
   "metadata": {},
   "outputs": [
    {
     "data": {
      "text/plain": [
       "array([-0.00822131, -0.5586981 ])"
      ]
     },
     "execution_count": 66,
     "metadata": {},
     "output_type": "execute_result"
    }
   ],
   "source": [
    "exponential_fit"
   ]
  },
  {
   "cell_type": "code",
   "execution_count": 67,
   "metadata": {},
   "outputs": [],
   "source": [
    "def prediction(exponential_fit, x):\n",
    "    a, b = exponential_fit[0], exponential_fit[1]\n",
    "    print(a, b)\n",
    "    ln_y = b + np.dot(a, x)\n",
    "    return np.exp(ln_y)"
   ]
  },
  {
   "cell_type": "code",
   "execution_count": 68,
   "metadata": {},
   "outputs": [
    {
     "name": "stdout",
     "output_type": "stream",
     "text": [
      "-0.00822130632001422 -0.5586980998528087\n"
     ]
    },
    {
     "data": {
      "text/plain": [
       "<AxesSubplot:xlabel='post_index'>"
      ]
     },
     "execution_count": 68,
     "metadata": {},
     "output_type": "execute_result"
    },
    {
     "data": {
      "image/png": "[encoded data removed]",
      "text/plain": [
       "<Figure size 432x288 with 1 Axes>"
      ]
     },
     "metadata": {
      "needs_background": "light"
     },
     "output_type": "display_data"
    }
   ],
   "source": [
    "revised_rank_prob['click_rank/total_click_prediction'] = prediction(exponential_fit, revised_rank_prob['post_index'])\n",
    "revised_rank_prob.plot(x='post_index', y=['click_rank/total_click','click_rank/total_click_prediction'])"
   ]
  },
  {
   "cell_type": "markdown",
   "metadata": {},
   "source": [
    "مدل اول ارائه شد! این مدل پیش بینی میکند که چند درصد کلیک های کلی متعلق به یک رنک یا جایگاه خاص هستند. قصد نظارت بر عملکرد سرچ دیوار بود. پس این معیار به درد میخورد. با توجه اینکه شبیه نمایی است وضعیت کلیک ها بد نیستند. هر چند که نمودار از جایی به بعد نمایی نیست و عملا خط صاف میشود و \n",
    "\n",
    "train \n",
    "\n",
    "کردن مدل روی ۵۰۰ داده ی اول هم زیادی است. اگر روی ۱۰۰ تای اول \n",
    "\n",
    "train\n",
    "\n",
    "کنیم میشود دید که خیلی بهتر فیت میشود و حتی با اندیس های خیلی بزرگ هم سازگار است.\n",
    "رفتار کلیلک همه ی کاربران به خوبی مدل شده است \n",
    "اما از راهنمایی صورت سوال (بینولی) استفاده نشد.\n",
    "مدل دیگری ارائه میدهیم. "
   ]
  },
  {
   "cell_type": "markdown",
   "metadata": {},
   "source": [
    "## model 2: click_rank/load_rank and logistic regression"
   ]
  },
  {
   "cell_type": "markdown",
   "metadata": {},
   "source": [
    "ستون\n",
    "\n",
    "click_rank/load_rank\n",
    "\n",
    "برای هر رنک نشان میدهد که از بین زمان هایی که آن پوزیشن لود شده چند درصد به کلیک روی آن پوزیشن منجر شده."
   ]
  },
  {
   "cell_type": "code",
   "execution_count": 69,
   "metadata": {},
   "outputs": [
    {
     "data": {
      "text/plain": [
       "<AxesSubplot:xlabel='post_index', ylabel='click_rank/load_rank'>"
      ]
     },
     "execution_count": 69,
     "metadata": {},
     "output_type": "execute_result"
    },
    {
     "data": {
      "image/png": "[encoded data removed]",
      "text/plain": [
       "<Figure size 432x288 with 1 Axes>"
      ]
     },
     "metadata": {
      "needs_background": "light"
     },
     "output_type": "display_data"
    }
   ],
   "source": [
    "x = revised_rank_prob['click_rank/load_rank'].to_numpy().reshape(-1, 1)\n",
    "y = revised_rank_prob['click_rank/load_rank'].to_numpy()\n",
    "revised_rank_prob.plot(x='post_index', y=\"click_rank/load_rank\", kind='scatter')"
   ]
  },
  {
   "cell_type": "markdown",
   "metadata": {},
   "source": [
    "اگر رنکی\n",
    "\n",
    "\\\\(ni\\\\)\n",
    "\n",
    "بار لود شود و از بین آنها \n",
    "\n",
    "\\\\(ci\\\\)\n",
    "\n",
    "بار کلیک شود مثل این است که ازمایش برنولی را \n",
    "\n",
    "\\\\(ni\\\\)\n",
    "\n",
    "بار انجام داده ایم ( به صورت مستقل و با پارامتر یکسان. یعنی احتمال کلیک روی آن رنک در هر بار ازمایش ثابت و یکسان است. )و امیدریاضی متغیر تصادفی (که تعداد پیروزی ها در ازمایش است) برابر است با \n",
    "\n",
    "\\\\(ci\\\\)\n",
    "\n",
    "یعنی\n",
    "\n",
    "\\\\(pi = ci/ni\\\\)، احتمال کلیک روی یک رنک پس از لود آن"
   ]
  },
  {
   "cell_type": "markdown",
   "metadata": {},
   "source": [
    "به عبارتی این\n",
    "\n",
    "\\\\(pi\\\\)\n",
    "\n",
    "همان\n",
    "\n",
    "CTR\n",
    "\n",
    "است.\n",
    "با توجه به نویز زیاد در آن شکل خاصی ندارد اما میتوانیم از شبکه عصبی برای مدل کردن آن استفاده کنیم."
   ]
  },
  {
   "cell_type": "code",
   "execution_count": 70,
   "metadata": {},
   "outputs": [],
   "source": [
    "import statsmodels.api as sm"
   ]
  },
  {
   "cell_type": "code",
   "execution_count": 71,
   "metadata": {},
   "outputs": [
    {
     "name": "stdout",
     "output_type": "stream",
     "text": [
      "Optimization terminated successfully.\n",
      "         Current function value: 0.142151\n",
      "         Iterations 7\n"
     ]
    }
   ],
   "source": [
    "logit_model = sm.Logit(y,x)\n",
    "result = logit_model.fit()"
   ]
  },
  {
   "cell_type": "markdown",
   "metadata": {},
   "source": [
    "البته کار درستی نیست که روی همان داده ی اولیه تست کنیم!"
   ]
  },
  {
   "cell_type": "markdown",
   "metadata": {},
   "source": [
    "    این مدل هم رفتار کلیک کاربران را پیش بینی و مدل میکند. همچنین میتواند برای ما متریک های نام برده شده را روی جمعیت کلی کاربران پیش بینی کند. یعتی با توجه به احتمالات به دست آورده شده برای هر پوزیشن، میتواند \n",
    "   expected\n",
    "   \n",
    "    را برای رتبه ی اولین کلیک حساب کند، یا درصد اینکه برای یک کوئری رندوم روی سه اگهی اول کلیک میشود یا نه را حساب کند.\n",
    "    این مدل درصد احتمال و میانکین و چیزهایی شبیه به این را برای یک کوئری رندوم بدون داشتن هیچ متریک دیگری پیش بینی میکند.\n",
    "    اما به توجه به اینکه گفته شده مدل با داشتن یک متریک دیگر متریکها را تخمین بزند به نظر می آید که مدل باید طبق رفتار کاربر (مثلا یک متریک داده شده) دیگر پیش بینی ها را انجام دهد.\n",
    "    کد آن را نزدم ولی ایده ای که دارم این است که نمودار \n",
    "    \n",
    "    click_rank/load_rank \n",
    "    \n",
    "    نسبت به \n",
    "    \n",
    "    rank\n",
    "    \n",
    "    را با توزیعی مدل کنیم. بعنی توزیعی شبیه این نمودار پیدا کنیم، سپس برای یک کوئری وقتی متریک خاصی داده میشود از روی آن متریک پارامتر آن توزیع را تعیین کنیم. (ارتباطی بین پارامتر توزیع و متریک ها باید پیدا شود.) سپس از روی پارامتر به دست آمده و ارتباط پارامتر با متریک های دیگر متریک های دیگر محاسبه شوند\n",
    "                           "
   ]
  }
 ],
 "metadata": {
  "kernelspec": {
   "display_name": "Python 3",
   "language": "python",
   "name": "python3"
  },
  "language_info": {
   "codemirror_mode": {
    "name": "ipython",
    "version": 3
   },
   "file_extension": ".py",
   "mimetype": "text/x-python",
   "name": "python",
   "nbconvert_exporter": "python",
   "pygments_lexer": "ipython3",
   "version": "3.8.5"
  }
 },
 "nbformat": 4,
 "nbformat_minor": 4
}
